{
 "cells": [
  {
   "cell_type": "code",
   "execution_count": 2,
   "metadata": {},
   "outputs": [],
   "source": [
    "import numpy as np"
   ]
  },
  {
   "cell_type": "code",
   "execution_count": 3,
   "metadata": {},
   "outputs": [],
   "source": [
    "'''例如，数据集一共有5个样本，真实类别为（1，0，0，1，0）；\n",
    "二分类机器学习模型，得到的预测结果为（0.5，0.6，0.4，0.7，0.3）。'''\n",
    "\n",
    "y_true = np.array([1,0,0,1,0])\n",
    "\n",
    "# 概率论，KNN概率，LR概率\n",
    "y_predict = np.array([0.5,0.6,0.4,0.7,0.3])"
   ]
  },
  {
   "cell_type": "code",
   "execution_count": 8,
   "metadata": {
    "scrolled": true
   },
   "outputs": [
    {
     "name": "stdout",
     "output_type": "stream",
     "text": [
      "[ True  True  True  True False]\n"
     ]
    },
    {
     "data": {
      "text/plain": [
       "0.6"
      ]
     },
     "execution_count": 8,
     "metadata": {},
     "output_type": "execute_result"
    }
   ],
   "source": [
    "# 阈值 > 0.3 类别 1，小等于 类别 0 \n",
    "\n",
    "cond = y_predict > 0.3\n",
    "print(cond)\n",
    "score = (y_true == cond).sum()/5\n",
    "score"
   ]
  },
  {
   "cell_type": "code",
   "execution_count": 9,
   "metadata": {
    "scrolled": true
   },
   "outputs": [
    {
     "name": "stdout",
     "output_type": "stream",
     "text": [
      "[ True  True False  True False]\n"
     ]
    },
    {
     "data": {
      "text/plain": [
       "0.8"
      ]
     },
     "execution_count": 9,
     "metadata": {},
     "output_type": "execute_result"
    }
   ],
   "source": [
    "# 阈值 > 0.4 类别 1，小等于 类别 0 \n",
    "# 准确率，是不是随着我们阈值，发生变化\n",
    "cond = y_predict > 0.4\n",
    "print(cond)\n",
    "score = (y_true == cond).sum()/5\n",
    "score"
   ]
  },
  {
   "cell_type": "code",
   "execution_count": 10,
   "metadata": {
    "scrolled": true
   },
   "outputs": [
    {
     "name": "stdout",
     "output_type": "stream",
     "text": [
      "[False  True False  True False]\n"
     ]
    },
    {
     "data": {
      "text/plain": [
       "0.6"
      ]
     },
     "execution_count": 10,
     "metadata": {},
     "output_type": "execute_result"
    }
   ],
   "source": [
    "# 阈值 > 0.5 类别 1，小等于 类别 0 \n",
    "# 准确率，是不是随着我们阈值，发生变化\n",
    "cond = y_predict > 0.5\n",
    "print(cond)\n",
    "score = (y_true == cond).sum()/5\n",
    "score"
   ]
  },
  {
   "cell_type": "code",
   "execution_count": 11,
   "metadata": {},
   "outputs": [
    {
     "name": "stdout",
     "output_type": "stream",
     "text": [
      "[False False False False False]\n"
     ]
    },
    {
     "data": {
      "text/plain": [
       "0.6"
      ]
     },
     "execution_count": 11,
     "metadata": {},
     "output_type": "execute_result"
    }
   ],
   "source": [
    "# 阈值 > 0.7 类别 1，小等于 类别 0 \n",
    "# 准确率，是不是随着我们阈值，发生变化\n",
    "cond = y_predict > 0.7\n",
    "print(cond)\n",
    "score = (y_true == cond).sum()/5\n",
    "score"
   ]
  },
  {
   "cell_type": "code",
   "execution_count": 12,
   "metadata": {},
   "outputs": [],
   "source": [
    "import numpy as np\n",
    "\n",
    "import matplotlib.pyplot as plt\n",
    "%matplotlib inline\n",
    "\n",
    "from sklearn.linear_model import LogisticRegression\n",
    "\n",
    "from sklearn.svm import SVC\n",
    "\n",
    "import sklearn.datasets as datasets"
   ]
  },
  {
   "cell_type": "code",
   "execution_count": 13,
   "metadata": {},
   "outputs": [],
   "source": [
    "iris = datasets.load_iris()\n",
    "X = iris['data']\n",
    "\n",
    "y = iris['target']"
   ]
  },
  {
   "cell_type": "code",
   "execution_count": 16,
   "metadata": {},
   "outputs": [],
   "source": [
    "cond = y!=2\n",
    "\n",
    "X = X[cond]\n",
    "y = y[cond]"
   ]
  },
  {
   "cell_type": "code",
   "execution_count": 17,
   "metadata": {
    "collapsed": true
   },
   "outputs": [
    {
     "data": {
      "text/plain": [
       "array([0, 0, 0, 0, 0, 0, 0, 0, 0, 0, 0, 0, 0, 0, 0, 0, 0, 0, 0, 0, 0, 0,\n",
       "       0, 0, 0, 0, 0, 0, 0, 0, 0, 0, 0, 0, 0, 0, 0, 0, 0, 0, 0, 0, 0, 0,\n",
       "       0, 0, 0, 0, 0, 0, 1, 1, 1, 1, 1, 1, 1, 1, 1, 1, 1, 1, 1, 1, 1, 1,\n",
       "       1, 1, 1, 1, 1, 1, 1, 1, 1, 1, 1, 1, 1, 1, 1, 1, 1, 1, 1, 1, 1, 1,\n",
       "       1, 1, 1, 1, 1, 1, 1, 1, 1, 1, 1, 1])"
      ]
     },
     "execution_count": 17,
     "metadata": {},
     "output_type": "execute_result"
    }
   ],
   "source": [
    "# 二分类问题\n",
    "y"
   ]
  },
  {
   "cell_type": "code",
   "execution_count": 18,
   "metadata": {},
   "outputs": [],
   "source": [
    "# 可以将数据分开，分成训练数据和测试数据\n",
    "# train_test_split类似 只分一次\n",
    "# 分成6份（每一份都有训练数据和测试数据）\n",
    "from sklearn.model_selection import KFold,StratifiedKFold"
   ]
  },
  {
   "cell_type": "code",
   "execution_count": 19,
   "metadata": {},
   "outputs": [],
   "source": [
    "A = np.random.randn(8,2) \n",
    "# 目标值中，0:1 = 4:4 = 1:1\n",
    "b = np.array([0,1,0,0,1,1,1,0])"
   ]
  },
  {
   "cell_type": "code",
   "execution_count": 23,
   "metadata": {
    "collapsed": true
   },
   "outputs": [
    {
     "name": "stdout",
     "output_type": "stream",
     "text": [
      "[2 3 4 5 6 7] [0 1]\n",
      "[0 1 4 5 6 7] [2 3]\n",
      "[0 1 2 3 6 7] [4 5]\n",
      "[0 1 2 3 4 5] [6 7]\n"
     ]
    }
   ],
   "source": [
    "kFold = KFold(4)\n",
    "\n",
    "# train，test是索引\n",
    "for train,test in kFold.split(A,b):\n",
    "    print(train,test)"
   ]
  },
  {
   "cell_type": "code",
   "execution_count": 24,
   "metadata": {
    "collapsed": true
   },
   "outputs": [
    {
     "name": "stdout",
     "output_type": "stream",
     "text": [
      "[2 3 4 5 6 7] [0 1]\n",
      "[0 1 3 5 6 7] [2 4]\n",
      "[0 1 2 4 6 7] [3 5]\n",
      "[0 1 2 3 4 5] [6 7]\n"
     ]
    }
   ],
   "source": [
    "# 样本分成多少份（每一份都可以进行训练和预测）\n",
    "# 分类的时候，考虑样本均衡\n",
    "sKFold = StratifiedKFold(4)\n",
    "for train,test in sKFold.split(A,b):\n",
    "    print(train,test)"
   ]
  },
  {
   "cell_type": "code",
   "execution_count": null,
   "metadata": {},
   "outputs": [],
   "source": [
    "# 绘制ROC曲线\n",
    "''' True Positive Rate=TP/(TP+FN)，代表将真实正样本划分为正样本的概率 '''\n",
    "# tpr \n",
    "\n",
    "'''False Positive Rate=FP/(FP+TN)，代表将真实负样本划分为正样本的概率 '''\n",
    "# fpr "
   ]
  },
  {
   "cell_type": "code",
   "execution_count": 25,
   "metadata": {},
   "outputs": [],
   "source": [
    "from sklearn.metrics import roc_curve,auc"
   ]
  },
  {
   "cell_type": "code",
   "execution_count": 31,
   "metadata": {
    "scrolled": true
   },
   "outputs": [
    {
     "data": {
      "text/plain": [
       "(100, 4)"
      ]
     },
     "execution_count": 31,
     "metadata": {},
     "output_type": "execute_result"
    }
   ],
   "source": [
    "X.shape"
   ]
  },
  {
   "cell_type": "code",
   "execution_count": 32,
   "metadata": {},
   "outputs": [
    {
     "data": {
      "text/plain": [
       "(100, 804)"
      ]
     },
     "execution_count": 32,
     "metadata": {},
     "output_type": "execute_result"
    }
   ],
   "source": [
    "X = np.concatenate([X,np.random.randn(100,800)],axis = 1)\n",
    "X.shape"
   ]
  },
  {
   "cell_type": "code",
   "execution_count": 33,
   "metadata": {
    "scrolled": true
   },
   "outputs": [
    {
     "data": {
      "image/png": "[encoded data removed]",
      "text/plain": [
       "<Figure size 432x288 with 1 Axes>"
      ]
     },
     "metadata": {},
     "output_type": "display_data"
    }
   ],
   "source": [
    "# iris数据太简单，算法，预测结果，非常好，100%\n",
    "sKFold = StratifiedKFold(6)\n",
    "\n",
    "logistic = LogisticRegression()\n",
    "\n",
    "# train，test是索引\n",
    "i = 0\n",
    "for train,test in sKFold.split(X,y):\n",
    "    \n",
    "    X_train = X[train]\n",
    "    X_test = X[test]\n",
    "    \n",
    "    y_train = y[train]\n",
    "    y_test = y[test]\n",
    "    \n",
    "    logistic.fit(X_train,y_train)\n",
    "    \n",
    "#     预测\n",
    "    proba_ = logistic.predict_proba(X_test)\n",
    "#     print(proba_)\n",
    "#   fpr作为横坐标，tpr作为纵坐标\n",
    "    fpr,tpr,threshold = roc_curve(y_test,proba_[:,1])\n",
    "    \n",
    "#     计算auc\n",
    "    auc_ = auc(fpr,tpr)\n",
    "    \n",
    "    plt.plot(fpr,tpr,label = 'K %d,AUC:%0.2f'%(i,auc_))\n",
    "    i+=1\n",
    "    \n",
    "    plt.legend()"
   ]
  },
  {
   "cell_type": "code",
   "execution_count": 34,
   "metadata": {},
   "outputs": [],
   "source": [
    "svc = SVC()\n"
   ]
  },
  {
   "cell_type": "code",
   "execution_count": null,
   "metadata": {},
   "outputs": [],
   "source": [
    "# iris数据太简单，算法，预测结果，非常好，100%\n",
    "sKFold = StratifiedKFold(6)\n",
    "\n",
    "svc = SVC(probability=True)\n",
    "\n",
    "# train，test是索引\n",
    "i = 0\n",
    "for train,test in sKFold.split(X,y):\n",
    "    \n",
    "    X_train = X[train]\n",
    "    X_test = X[test]\n",
    "    \n",
    "    y_train = y[train]\n",
    "    y_test = y[test]\n",
    "    \n",
    "    svc.fit(X_train,y_train)\n",
    "    \n",
    "#     预测\n",
    "    proba_ = svc.predict_proba(X_test)\n",
    "#     print(proba_)\n",
    "#   fpr作为横坐标，tpr作为纵坐标\n",
    "    fpr,tpr,threshold = roc_curve(y_test,proba_[:,1])\n",
    "    \n",
    "#     计算auc\n",
    "    auc_ = auc(fpr,tpr)\n",
    "    \n",
    "    plt.plot(fpr,tpr,label = 'K %d,AUC:%0.2f'%(i,auc_))\n",
    "    i+=1\n",
    "    \n",
    "    plt.legend()"
   ]
  }
 ],
 "metadata": {
  "kernelspec": {
   "display_name": "Python 3",
   "language": "python",
   "name": "python3"
  },
  "language_info": {
   "codemirror_mode": {
    "name": "ipython",
    "version": 3
   },
   "file_extension": ".py",
   "mimetype": "text/x-python",
   "name": "python",
   "nbconvert_exporter": "python",
   "pygments_lexer": "ipython3",
   "version": "3.6.5"
  }
 },
 "nbformat": 4,
 "nbformat_minor": 2
}
