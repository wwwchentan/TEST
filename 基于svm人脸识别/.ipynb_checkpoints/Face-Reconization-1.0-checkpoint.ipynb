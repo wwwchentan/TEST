{
 "cells": [
  {
   "cell_type": "markdown",
   "metadata": {},
   "source": [
    "## 人脸识别\n",
    "1. 人脸有不同的颜色组成\n",
    "2. 不同的颜色由三原色：红绿蓝组成\n",
    "3. 红绿蓝由0~255的数字组成\n",
    "\n",
    "### 所以人脸是由数据组成的"
   ]
  },
  {
   "cell_type": "markdown",
   "metadata": {},
   "source": [
    "### 使用matplotlib.pyplot导入数据图片并显示,观察这张图片的数据类型"
   ]
  },
  {
   "cell_type": "code",
   "execution_count": 1,
   "metadata": {},
   "outputs": [],
   "source": [
    "import numpy as np\n",
    "import matplotlib.pyplot as plt\n",
    "%matplotlib inline\n",
    "\n",
    "from sklearn.svm import SVC\n",
    "\n",
    "from sklearn.decomposition import PCA\n",
    "\n",
    "# 删选合适的参数\n",
    "from sklearn.model_selection import GridSearchCV\n",
    "\n",
    "import sklearn.datasets as datasets\n",
    "\n",
    "import logging"
   ]
  },
  {
   "cell_type": "markdown",
   "metadata": {},
   "source": [
    "## 进行人脸识别操作\n",
    "1.导入相应模块工具：GridSearchCV、fetch_lfw_people、PCA、loggin等  \n",
    "\n",
    "\n",
    "2.设置logging，控制台显示程序处理数据的进度  \n",
    "\n",
    "\n",
    "3.使用fetch_lfw_people导入数据，如果本地没有会从网络下载，如果本地有数据，加载本地  \n",
    "\n",
    "\n",
    "4.查看人脸数据结构  \n",
    "\n",
    "\n",
    "5.从人脸数据中提取进行机器学习的关键数据  \n",
    "\n",
    "\n",
    "6.对数据进行分割，获取训练数据和测试数据  \n",
    "\n",
    "\n",
    "7.数据太复杂了，使用PCA对数据进行降维处理，去除一些不重要的数据  \n",
    "\n",
    "\n",
    "8.使用GridSerchCV查询最佳的机器学习模型  \n",
    "\n",
    "\n",
    "9.定义方法获取预测人名和真实人名  \n",
    "\n",
    "\n",
    "10.定义方法绘制人脸识别结果图形  \n",
    "\n",
    "\n",
    "11.调用方法进行数据展示  \n"
   ]
  },
  {
   "cell_type": "markdown",
   "metadata": {},
   "source": [
    "导入相应模块工具：GridSearchCV、fetch_lfw_people、PCA、logging等 "
   ]
  },
  {
   "cell_type": "code",
   "execution_count": null,
   "metadata": {},
   "outputs": [],
   "source": []
  },
  {
   "cell_type": "code",
   "execution_count": null,
   "metadata": {},
   "outputs": [],
   "source": []
  },
  {
   "cell_type": "markdown",
   "metadata": {},
   "source": [
    "设置logging.basicConfig(level=logging.INFO, format='%(asctime)s %(message)s')  \n",
    "控制台输出记录数据，显示程序处理数据的进度"
   ]
  },
  {
   "cell_type": "code",
   "execution_count": 2,
   "metadata": {},
   "outputs": [],
   "source": [
    "# Info warning error……\n",
    "logging.basicConfig(level = logging.INFO,format = '%(asctime)s%(message)s')"
   ]
  },
  {
   "cell_type": "code",
   "execution_count": 3,
   "metadata": {},
   "outputs": [
    {
     "data": {
      "text/plain": [
       "{'data': array([[253.66667 , 253.66667 , 254.66667 , ...,  86.666664,  86.333336,\n",
       "          86.333336],\n",
       "        [ 42.      ,  34.      ,  31.666666, ..., 121.666664, 148.      ,\n",
       "         185.33333 ],\n",
       "        [ 94.      ,  72.      ,  74.      , ..., 182.66667 , 183.      ,\n",
       "         182.33333 ],\n",
       "        ...,\n",
       "        [ 84.333336,  86.      ,  85.333336, ...,  44.      ,  35.666668,\n",
       "          30.333334],\n",
       "        [ 49.666668,  50.333332,  47.666668, ..., 178.66667 , 167.66667 ,\n",
       "         127.333336],\n",
       "        [ 31.333334,  33.333332,  26.666666, ...,  47.666668,  63.      ,\n",
       "          99.      ]], dtype=float32),\n",
       " 'images': array([[[253.66667 , 253.66667 , 254.66667 , ...,  42.333332,\n",
       "           37.666668,  39.      ],\n",
       "         [254.      , 254.      , 253.66667 , ...,  43.333332,\n",
       "           38.      ,  39.      ],\n",
       "         [254.66667 , 254.33333 , 253.33333 , ...,  44.      ,\n",
       "           38.666668,  38.      ],\n",
       "         ...,\n",
       "         [ 68.333336,  63.333332,  51.      , ...,  90.333336,\n",
       "           85.666664,  83.666664],\n",
       "         [ 64.      ,  61.333332,  51.666668, ...,  88.      ,\n",
       "           87.      ,  87.      ],\n",
       "         [ 58.666668,  58.      ,  53.      , ...,  86.666664,\n",
       "           86.333336,  86.333336]],\n",
       " \n",
       "        [[ 42.      ,  34.      ,  31.666666, ...,  41.333332,\n",
       "           34.      ,  29.666666],\n",
       "         [ 41.666668,  35.666668,  38.      , ...,  42.      ,\n",
       "           36.      ,  33.666668],\n",
       "         [ 41.      ,  43.      ,  47.333332, ...,  48.666668,\n",
       "           46.      ,  39.666668],\n",
       "         ...,\n",
       "         [ 77.333336,  77.666664,  75.666664, ..., 110.333336,\n",
       "          110.666664, 133.33333 ],\n",
       "         [ 77.666664,  78.666664,  78.333336, ..., 112.333336,\n",
       "          123.666664, 154.66667 ],\n",
       "         [ 77.      ,  76.666664,  76.666664, ..., 121.666664,\n",
       "          148.      , 185.33333 ]],\n",
       " \n",
       "        [[ 94.      ,  72.      ,  74.      , ..., 151.66667 ,\n",
       "          150.33333 , 150.      ],\n",
       "         [ 96.      ,  88.333336,  96.      , ..., 149.66667 ,\n",
       "          148.33333 , 148.      ],\n",
       "         [ 97.333336,  86.666664,  97.666664, ..., 147.66667 ,\n",
       "          145.33333 , 147.33333 ],\n",
       "         ...,\n",
       "         [ 77.      ,  72.666664,  67.      , ..., 184.33333 ,\n",
       "          183.      , 181.      ],\n",
       "         [ 83.      ,  80.666664,  72.333336, ..., 184.      ,\n",
       "          184.      , 182.      ],\n",
       "         [ 88.333336,  86.666664,  82.666664, ..., 182.66667 ,\n",
       "          183.      , 182.33333 ]],\n",
       " \n",
       "        ...,\n",
       " \n",
       "        [[ 84.333336,  86.      ,  85.333336, ...,  37.333332,\n",
       "           42.666668,  48.      ],\n",
       "         [ 86.      ,  87.      ,  84.666664, ...,  34.333332,\n",
       "           38.333332,  43.666668],\n",
       "         [ 89.      ,  90.      ,  85.333336, ...,  33.      ,\n",
       "           37.      ,  41.      ],\n",
       "         ...,\n",
       "         [ 80.666664,  86.666664,  85.666664, ...,  58.666668,\n",
       "           55.      ,  45.666668],\n",
       "         [ 72.666664,  79.333336,  81.666664, ...,  51.      ,\n",
       "           46.      ,  36.666668],\n",
       "         [ 66.666664,  69.666664,  74.      , ...,  44.      ,\n",
       "           35.666668,  30.333334]],\n",
       " \n",
       "        [[ 49.666668,  50.333332,  47.666668, ..., 157.      ,\n",
       "          150.33333 , 140.      ],\n",
       "         [ 46.333332,  49.      ,  50.666668, ..., 159.      ,\n",
       "          154.      , 145.33333 ],\n",
       "         [ 50.666668,  51.      ,  55.666668, ..., 156.33333 ,\n",
       "          156.      , 151.      ],\n",
       "         ...,\n",
       "         [ 61.333332,  60.333332,  63.      , ..., 168.33333 ,\n",
       "          173.33333 , 169.      ],\n",
       "         [ 61.333332,  60.333332,  63.      , ..., 179.      ,\n",
       "          176.      , 153.      ],\n",
       "         [ 62.      ,  60.      ,  61.666668, ..., 178.66667 ,\n",
       "          167.66667 , 127.333336]],\n",
       " \n",
       "        [[ 31.333334,  33.333332,  26.666666, ...,  48.333332,\n",
       "           48.      ,  51.333332],\n",
       "         [ 37.      ,  27.333334,  24.333334, ...,  47.333332,\n",
       "           45.      ,  51.333332],\n",
       "         [ 35.      ,  28.      ,  23.333334, ...,  40.666668,\n",
       "           39.      ,  43.333332],\n",
       "         ...,\n",
       "         [ 43.333332,  41.333332,  41.666668, ...,  37.666668,\n",
       "           49.666668,  61.      ],\n",
       "         [ 47.      ,  46.      ,  50.666668, ...,  44.      ,\n",
       "           61.333332,  84.333336],\n",
       "         [ 46.      ,  46.      ,  46.666668, ...,  47.666668,\n",
       "           63.      ,  99.      ]]], dtype=float32),\n",
       " 'target': array([5, 6, 3, ..., 5, 3, 5], dtype=int64),\n",
       " 'target_names': array(['Ariel Sharon', 'Colin Powell', 'Donald Rumsfeld', 'George W Bush',\n",
       "        'Gerhard Schroeder', 'Hugo Chavez', 'Tony Blair'], dtype='<U17'),\n",
       " 'DESCR': 'LFW faces dataset'}"
      ]
     },
     "execution_count": 3,
     "metadata": {},
     "output_type": "execute_result"
    }
   ],
   "source": [
    "# lfw label face wild\n",
    "faces = datasets.fetch_lfw_people(resize = 1,min_faces_per_person=70)\n",
    "faces"
   ]
  },
  {
   "cell_type": "code",
   "execution_count": 4,
   "metadata": {
    "scrolled": true
   },
   "outputs": [
    {
     "data": {
      "text/plain": [
       "(1288, 125, 94)"
      ]
     },
     "execution_count": 4,
     "metadata": {},
     "output_type": "execute_result"
    }
   ],
   "source": [
    "faces['images'].shape"
   ]
  },
  {
   "cell_type": "code",
   "execution_count": 5,
   "metadata": {},
   "outputs": [
    {
     "data": {
      "text/plain": [
       "array(['Ariel Sharon', 'Colin Powell', 'Donald Rumsfeld', 'George W Bush',\n",
       "       'Gerhard Schroeder', 'Hugo Chavez', 'Tony Blair'], dtype='<U17')"
      ]
     },
     "execution_count": 5,
     "metadata": {},
     "output_type": "execute_result"
    }
   ],
   "source": [
    "faces['target_names']"
   ]
  },
  {
   "cell_type": "code",
   "execution_count": 6,
   "metadata": {
    "scrolled": true
   },
   "outputs": [
    {
     "data": {
      "text/plain": [
       "<matplotlib.image.AxesImage at 0x1d29c518160>"
      ]
     },
     "execution_count": 6,
     "metadata": {},
     "output_type": "execute_result"
    },
    {
     "data": {
      "image/png": "[encoded data removed]",
      "text/plain": [
       "<Figure size 144x144 with 1 Axes>"
      ]
     },
     "metadata": {},
     "output_type": "display_data"
    }
   ],
   "source": [
    "index= np.random.randint(1288,size = 1)[0]\n",
    "\n",
    "plt.figure(figsize=(2,2))\n",
    "\n",
    "plt.imshow(faces['images'][index],cmap = 'gray')"
   ]
  },
  {
   "cell_type": "markdown",
   "metadata": {},
   "source": [
    "使用fetch_lfw_people导入数据，如果本地没有会从网络下载，如果本地有数据，加载本地"
   ]
  },
  {
   "cell_type": "code",
   "execution_count": 7,
   "metadata": {},
   "outputs": [
    {
     "data": {
      "text/plain": [
       "(1288, 125, 94)"
      ]
     },
     "execution_count": 7,
     "metadata": {},
     "output_type": "execute_result"
    }
   ],
   "source": [
    "faces['images'].shape\n",
    "# 125人脸高度，宽度94"
   ]
  },
  {
   "cell_type": "code",
   "execution_count": null,
   "metadata": {},
   "outputs": [],
   "source": []
  },
  {
   "cell_type": "markdown",
   "metadata": {},
   "source": [
    "查看人脸数据结构"
   ]
  },
  {
   "cell_type": "code",
   "execution_count": 8,
   "metadata": {},
   "outputs": [],
   "source": [
    "# shape(125,94)\n",
    "X = faces['data']\n",
    "\n",
    "y = faces['target']\n",
    "\n",
    "target_names = faces['target_names']"
   ]
  },
  {
   "cell_type": "code",
   "execution_count": null,
   "metadata": {},
   "outputs": [],
   "source": []
  },
  {
   "cell_type": "markdown",
   "metadata": {},
   "source": [
    "从人脸数据中提取进行机器学习的关键数据"
   ]
  },
  {
   "cell_type": "code",
   "execution_count": 9,
   "metadata": {},
   "outputs": [
    {
     "data": {
      "text/plain": [
       "array([[253.66667 , 253.66667 , 254.66667 , ...,  86.666664,  86.333336,\n",
       "         86.333336],\n",
       "       [ 42.      ,  34.      ,  31.666666, ..., 121.666664, 148.      ,\n",
       "        185.33333 ],\n",
       "       [ 94.      ,  72.      ,  74.      , ..., 182.66667 , 183.      ,\n",
       "        182.33333 ],\n",
       "       ...,\n",
       "       [ 84.333336,  86.      ,  85.333336, ...,  44.      ,  35.666668,\n",
       "         30.333334],\n",
       "       [ 49.666668,  50.333332,  47.666668, ..., 178.66667 , 167.66667 ,\n",
       "        127.333336],\n",
       "       [ 31.333334,  33.333332,  26.666666, ...,  47.666668,  63.      ,\n",
       "         99.      ]], dtype=float32)"
      ]
     },
     "execution_count": 9,
     "metadata": {},
     "output_type": "execute_result"
    }
   ],
   "source": [
    "X"
   ]
  },
  {
   "cell_type": "code",
   "execution_count": 10,
   "metadata": {},
   "outputs": [
    {
     "data": {
      "text/plain": [
       "(1288, 11750)"
      ]
     },
     "execution_count": 10,
     "metadata": {},
     "output_type": "execute_result"
    }
   ],
   "source": [
    "X.shape\n",
    "# 取出来比较重要的300个特征\n",
    "# 数据的特征值，计算\n",
    "# 100,99，……0.1,0.01，0.0001\n",
    "# 特征权重90%\n",
    "# 累加和\n",
    "# np.cumsum()/np.sum() > 0.9"
   ]
  },
  {
   "cell_type": "markdown",
   "metadata": {},
   "source": [
    "# PCA 降维\n",
    "主成分分析（Principal Components Analysis），简称PCA，是一种数据降维技术，用于数据预处理。一般我们获取的原始数据维度都很高，比如1000个特征，在这1000个特征中可能包含了很多无用的信息或者噪声，真正有用的特征才100个，那么我们可以运用PCA算法将1000个特征降到100个特征。这样不仅可以去除无用的噪声，还能减少很大的计算量。\n",
    "原始数据集dataMat 行代表样本,列代表特征  \n",
    "1)零均值化,行代表样本,列代表特征,\n",
    "零均值化就是求每一列的平均值,然后该列上的所有数都减去这个均值  \n",
    "menaVal = np.mean(dataMat,axis = 0)#按列求均值,即求各个特征的均值  \n",
    "newData = dataMat - meanVal  \n",
    "2)求协方差矩阵  \n",
    "covMat = np.cov(newData,rowvar = 0)  \n",
    "rowvar = 0 传入的数据一行代表一份样本  \n",
    "若非0 说明传入的数据一列代表一个样本  \n",
    "3)求特征值,特征矩阵  \n",
    "eigVals,eigVects = np.linalg.eig(covMat)  \n",
    "eigVals存放特征值,行向量  \n",
    "eigVects 存放特征向量,每一列代表一个特征向量  \n",
    "特征值和特征向量是一一对应的  \n",
    "4)保留主要成分[即保留值比较大的前n个特征]  \n",
    "    -第三步得到的特征值向量eigVals,对其从小到大排序,np.argsort(eigVals)  \n",
    "    -取出排在前面最大的n个特征向量(根据下标取),  \n",
    "     它们组成了一个新的特征空间的一组基n_eigVect.  \n",
    "    -将零均值化后的数据乘以n_eigVect就可以得到降维后的数据lowDDataMat  \n",
    "    -重构数据:乘以n_eigVect的转置矩阵,再加上均值meanVal  \n",
    "    (eigValIndice=np.argsort(eigVals)            #对特征值从小到大排序    \n",
    "     n_eigValIndice=eigValIndice[-1:-(n+1):-1]   #最大的n个特征值的下标    \n",
    "     n_eigVect=eigVects[:,n_eigValIndice]      #最大的n个特征值对应的特征向量     \n",
    "     lowDDataMat=newData*n_eigVect               #低维特征空间的数据    \n",
    "     reconMat=(lowDDataMat*n_eigVect.T)+meanVal  #重构数据  )  \n",
    "*)如何选择主成分个数,降到几维数据,即n取多少合适,    \n",
    "    一般通过方差百分比实现.(特征值从大到小排列,前n个求和/总和 >0.99)    \n",
    "    (def percentage2n(eigVals,percentage):    \n",
    "    sortArray=np.sort(eigVals)   #升序    \n",
    "    sortArray=sortArray[-1::-1]  #逆转，即降序    \n",
    "    arraySum=sum(sortArray)    \n",
    "    tmpSum=0    \n",
    "    num=0    \n",
    "    for i in sortArray:    \n",
    "        tmpSum+=i    \n",
    "        num+=1    \n",
    "        if tmpSum>=arraySum*percentage:    \n",
    "            return num )  "
   ]
  },
  {
   "cell_type": "code",
   "execution_count": 11,
   "metadata": {},
   "outputs": [
    {
     "data": {
      "text/plain": [
       "array([[253.66667 , 253.66667 , 254.66667 , ...,  86.666664,  86.333336,\n",
       "         86.333336],\n",
       "       [ 42.      ,  34.      ,  31.666666, ..., 121.666664, 148.      ,\n",
       "        185.33333 ],\n",
       "       [ 94.      ,  72.      ,  74.      , ..., 182.66667 , 183.      ,\n",
       "        182.33333 ],\n",
       "       ...,\n",
       "       [ 84.333336,  86.      ,  85.333336, ...,  44.      ,  35.666668,\n",
       "         30.333334],\n",
       "       [ 49.666668,  50.333332,  47.666668, ..., 178.66667 , 167.66667 ,\n",
       "        127.333336],\n",
       "       [ 31.333334,  33.333332,  26.666666, ...,  47.666668,  63.      ,\n",
       "         99.      ]], dtype=float32)"
      ]
     },
     "execution_count": 11,
     "metadata": {},
     "output_type": "execute_result"
    }
   ],
   "source": [
    "face = faces['data']\n",
    "face\n"
   ]
  },
  {
   "cell_type": "code",
   "execution_count": 12,
   "metadata": {},
   "outputs": [],
   "source": [
    "B1 = face - face.mean(axis = 0) "
   ]
  },
  {
   "cell_type": "code",
   "execution_count": 13,
   "metadata": {
    "scrolled": true
   },
   "outputs": [
    {
     "data": {
      "text/plain": [
       "array([[2337.77429704, 2283.15379912, 2157.88945878, ..., -173.98580544,\n",
       "        -180.65598369, -155.37994157],\n",
       "       [2283.15379912, 2305.04711003, 2232.11163363, ..., -163.02157565,\n",
       "        -172.52015594, -149.54820661],\n",
       "       [2157.88945878, 2232.11163363, 2246.66371623, ..., -128.19750738,\n",
       "        -145.45911915, -130.66836321],\n",
       "       ...,\n",
       "       [-173.98580544, -163.02157565, -128.19750738, ..., 6510.35590511,\n",
       "        6346.20335607, 5959.19476803],\n",
       "       [-180.65598369, -172.52015594, -145.45911915, ..., 6346.20335607,\n",
       "        6475.00227319, 6286.05121311],\n",
       "       [-155.37994157, -149.54820661, -130.66836321, ..., 5959.19476803,\n",
       "        6286.05121311, 6400.02973382]])"
      ]
     },
     "execution_count": 13,
     "metadata": {},
     "output_type": "execute_result"
    }
   ],
   "source": [
    "C1 = np.cov(B1,rowvar=False)\n",
    "C1.shape\n",
    "C1"
   ]
  },
  {
   "cell_type": "code",
   "execution_count": 14,
   "metadata": {},
   "outputs": [
    {
     "data": {
      "text/plain": [
       "array([ 3.10114833e+06+0.j,  2.48501420e+06+0.j,  1.20797292e+06+0.j, ...,\n",
       "        1.63489725e-13+0.j,  1.79980929e-13+0.j, -1.06531578e-13+0.j])"
      ]
     },
     "execution_count": 14,
     "metadata": {},
     "output_type": "execute_result"
    }
   ],
   "source": [
    "np.linalg.eigvals(C1)"
   ]
  },
  {
   "cell_type": "code",
   "execution_count": 15,
   "metadata": {},
   "outputs": [],
   "source": [
    "eigVals,eigVects  = np.linalg.eig(C1)"
   ]
  },
  {
   "cell_type": "code",
   "execution_count": 17,
   "metadata": {},
   "outputs": [],
   "source": [
    "eigVals = np.sort(eigVals)"
   ]
  },
  {
   "cell_type": "code",
   "execution_count": 18,
   "metadata": {},
   "outputs": [],
   "source": [
    "def percentage2n(eigVals,percentage):\n",
    "    sortArray = np.sort(eigVals) #升序\n",
    "    sortArray = sortArray[-1::-1] #逆转，即降序\n",
    "    arraySum = sum(sortArray)\n",
    "    tmpSum = 0\n",
    "    num = 0\n",
    "    for i in sortArray:\n",
    "        tmpSum += i\n",
    "        num += 1\n",
    "        if tmpSum >= arraySum*percentage:\n",
    "            return num"
   ]
  },
  {
   "cell_type": "code",
   "execution_count": 19,
   "metadata": {},
   "outputs": [
    {
     "data": {
      "text/plain": [
       "579"
      ]
     },
     "execution_count": 19,
     "metadata": {},
     "output_type": "execute_result"
    }
   ],
   "source": [
    "n = percentage2n(eigVals,0.99)  # 要达到percent 的方差百分比,需要前n个特征向量\n",
    "n"
   ]
  },
  {
   "cell_type": "code",
   "execution_count": 20,
   "metadata": {},
   "outputs": [
    {
     "data": {
      "text/plain": [
       "(11750,)"
      ]
     },
     "execution_count": 20,
     "metadata": {},
     "output_type": "execute_result"
    }
   ],
   "source": [
    "eigValIndice = np.argsort(eigVals) # 对特征值从小到大排序\n",
    "eigValIndice.shape "
   ]
  },
  {
   "cell_type": "code",
   "execution_count": 23,
   "metadata": {},
   "outputs": [
    {
     "data": {
      "text/plain": [
       "(1288, 11750)"
      ]
     },
     "execution_count": 23,
     "metadata": {},
     "output_type": "execute_result"
    }
   ],
   "source": [
    "B1.shape\n"
   ]
  },
  {
   "cell_type": "code",
   "execution_count": 24,
   "metadata": {},
   "outputs": [
    {
     "data": {
      "text/plain": [
       "(11750, 579)"
      ]
     },
     "execution_count": 24,
     "metadata": {},
     "output_type": "execute_result"
    }
   ],
   "source": [
    "n_eigVect.shape"
   ]
  },
  {
   "cell_type": "code",
   "execution_count": 25,
   "metadata": {},
   "outputs": [],
   "source": [
    "n_eigValIndice = eigValIndice[-1:-(n+1):-1] # 最大的n个特征值的下标\n",
    "n_eigVect = eigVects[:,n_eigValIndice] # 最大的n个特征值对应的特征向量"
   ]
  },
  {
   "cell_type": "code",
   "execution_count": 26,
   "metadata": {
    "scrolled": true
   },
   "outputs": [
    {
     "ename": "ValueError",
     "evalue": "operands could not be broadcast together with shapes (1288,11750) (11750,579) ",
     "output_type": "error",
     "traceback": [
      "\u001b[1;31m---------------------------------------------------------------------------\u001b[0m",
      "\u001b[1;31mValueError\u001b[0m                                Traceback (most recent call last)",
      "\u001b[1;32m<ipython-input-26-38d0f46f3c3c>\u001b[0m in \u001b[0;36m<module>\u001b[1;34m()\u001b[0m\n\u001b[1;32m----> 1\u001b[1;33m \u001b[0mlowDDataMat\u001b[0m \u001b[1;33m=\u001b[0m \u001b[0mB1\u001b[0m\u001b[1;33m*\u001b[0m\u001b[0mn_eigVect\u001b[0m \u001b[1;31m# 低维特征空间的数据 零均值后的数据*最大的n个特征向量\u001b[0m\u001b[1;33m\u001b[0m\u001b[0m\n\u001b[0m",
      "\u001b[1;31mValueError\u001b[0m: operands could not be broadcast together with shapes (1288,11750) (11750,579) "
     ]
    }
   ],
   "source": []
  },
  {
   "cell_type": "code",
   "execution_count": 21,
   "metadata": {},
   "outputs": [
    {
     "ename": "ValueError",
     "evalue": "operands could not be broadcast together with shapes (1288,11750) (11750,579) ",
     "output_type": "error",
     "traceback": [
      "\u001b[1;31m---------------------------------------------------------------------------\u001b[0m",
      "\u001b[1;31mValueError\u001b[0m                                Traceback (most recent call last)",
      "\u001b[1;32m<ipython-input-21-ca327df8ff35>\u001b[0m in \u001b[0;36m<module>\u001b[1;34m()\u001b[0m\n\u001b[0;32m      1\u001b[0m \u001b[0mn_eigValIndice\u001b[0m \u001b[1;33m=\u001b[0m \u001b[0meigValIndice\u001b[0m\u001b[1;33m[\u001b[0m\u001b[1;33m-\u001b[0m\u001b[1;36m1\u001b[0m\u001b[1;33m:\u001b[0m\u001b[1;33m-\u001b[0m\u001b[1;33m(\u001b[0m\u001b[0mn\u001b[0m\u001b[1;33m+\u001b[0m\u001b[1;36m1\u001b[0m\u001b[1;33m)\u001b[0m\u001b[1;33m:\u001b[0m\u001b[1;33m-\u001b[0m\u001b[1;36m1\u001b[0m\u001b[1;33m]\u001b[0m \u001b[1;31m# 最大的n个特征值的下标\u001b[0m\u001b[1;33m\u001b[0m\u001b[0m\n\u001b[0;32m      2\u001b[0m \u001b[0mn_eigVect\u001b[0m \u001b[1;33m=\u001b[0m \u001b[0meigVects\u001b[0m\u001b[1;33m[\u001b[0m\u001b[1;33m:\u001b[0m\u001b[1;33m,\u001b[0m\u001b[0mn_eigValIndice\u001b[0m\u001b[1;33m]\u001b[0m \u001b[1;31m# 最大的n个特征值对应的特征向量\u001b[0m\u001b[1;33m\u001b[0m\u001b[0m\n\u001b[1;32m----> 3\u001b[1;33m \u001b[0mlowDDataMat\u001b[0m \u001b[1;33m=\u001b[0m \u001b[0mB1\u001b[0m\u001b[1;33m*\u001b[0m\u001b[0mn_eigVect\u001b[0m \u001b[1;31m# 低维特征空间的数据 零均值后的数据*最大的n个特征向量\u001b[0m\u001b[1;33m\u001b[0m\u001b[0m\n\u001b[0m\u001b[0;32m      4\u001b[0m \u001b[0mreconMat\u001b[0m \u001b[1;33m=\u001b[0m \u001b[1;33m(\u001b[0m\u001b[0mlowDDataMat\u001b[0m\u001b[1;33m*\u001b[0m\u001b[0mn_eigVect\u001b[0m\u001b[1;33m.\u001b[0m\u001b[0mT\u001b[0m\u001b[1;33m)\u001b[0m \u001b[1;33m+\u001b[0m \u001b[0mmeanVal\u001b[0m \u001b[1;31m# 重构数据 低维数据乘以n_eigVect的转置矩阵,再加上均值meanVal\u001b[0m\u001b[1;33m\u001b[0m\u001b[0m\n\u001b[0;32m      5\u001b[0m \u001b[0mreconMat\u001b[0m\u001b[1;33m\u001b[0m\u001b[0m\n",
      "\u001b[1;31mValueError\u001b[0m: operands could not be broadcast together with shapes (1288,11750) (11750,579) "
     ]
    }
   ],
   "source": [
    "\n",
    "lowDDataMat = B1*n_eigVect # 低维特征空间的数据 零均值后的数据*最大的n个特征向量\n",
    "reconMat = (lowDDataMat*n_eigVect.T) + meanVal # 重构数据 低维数据乘以n_eigVect的转置矩阵,再加上均值meanVal \n",
    "reconMat\n"
   ]
  },
  {
   "cell_type": "code",
   "execution_count": null,
   "metadata": {},
   "outputs": [],
   "source": [
    "eigVects[::54]"
   ]
  },
  {
   "cell_type": "code",
   "execution_count": null,
   "metadata": {},
   "outputs": [],
   "source": [
    "iris = datasets.load_iris()['data']\n",
    "iris"
   ]
  },
  {
   "cell_type": "code",
   "execution_count": null,
   "metadata": {},
   "outputs": [],
   "source": [
    "iris.mean(axis = 0)"
   ]
  },
  {
   "cell_type": "code",
   "execution_count": null,
   "metadata": {},
   "outputs": [],
   "source": [
    "B = iris - iris.mean(axis = 0)"
   ]
  },
  {
   "cell_type": "code",
   "execution_count": null,
   "metadata": {},
   "outputs": [],
   "source": [
    "# 求解协方差\n",
    "C = np.cov(B,rowvar=False)\n",
    "C.shape\n",
    "C"
   ]
  },
  {
   "cell_type": "code",
   "execution_count": null,
   "metadata": {
    "scrolled": false
   },
   "outputs": [],
   "source": [
    "np.linalg.eigvals(C)"
   ]
  },
  {
   "cell_type": "code",
   "execution_count": null,
   "metadata": {},
   "outputs": [],
   "source": [
    "T,T_ = np.linalg.eig(C)"
   ]
  },
  {
   "cell_type": "code",
   "execution_count": null,
   "metadata": {
    "scrolled": true
   },
   "outputs": [],
   "source": []
  },
  {
   "cell_type": "code",
   "execution_count": null,
   "metadata": {
    "scrolled": true
   },
   "outputs": [],
   "source": [
    "T,T_ = np.linalg.eig(C)"
   ]
  },
  {
   "cell_type": "code",
   "execution_count": null,
   "metadata": {},
   "outputs": [],
   "source": [
    "T_[:,:2]"
   ]
  },
  {
   "cell_type": "code",
   "execution_count": null,
   "metadata": {
    "scrolled": true
   },
   "outputs": [],
   "source": [
    "D = iris.dot(T_[:,:2])"
   ]
  },
  {
   "cell_type": "code",
   "execution_count": null,
   "metadata": {},
   "outputs": [],
   "source": [
    "pca = PCA(2)\n",
    "pca.fit_transform(iris)\n",
    "pca.get_covariance()"
   ]
  },
  {
   "cell_type": "code",
   "execution_count": null,
   "metadata": {},
   "outputs": [],
   "source": [
    "pca.explained_variance_"
   ]
  },
  {
   "cell_type": "code",
   "execution_count": null,
   "metadata": {},
   "outputs": [],
   "source": [
    "pca.explained_variance_ratio_"
   ]
  },
  {
   "cell_type": "code",
   "execution_count": null,
   "metadata": {},
   "outputs": [],
   "source": [
    "pca.get_precision()"
   ]
  },
  {
   "cell_type": "code",
   "execution_count": null,
   "metadata": {},
   "outputs": [],
   "source": [
    "D - D.mean(axis = 0)/D.std(axis = 0)"
   ]
  },
  {
   "cell_type": "code",
   "execution_count": null,
   "metadata": {},
   "outputs": [],
   "source": [
    "np.linalg.eigh(C)"
   ]
  },
  {
   "cell_type": "code",
   "execution_count": null,
   "metadata": {},
   "outputs": [],
   "source": [
    "np.linalg.eigvalsh(C)"
   ]
  },
  {
   "cell_type": "code",
   "execution_count": null,
   "metadata": {},
   "outputs": [],
   "source": []
  },
  {
   "cell_type": "markdown",
   "metadata": {},
   "source": [
    "分割训练数据和预测数据"
   ]
  },
  {
   "cell_type": "code",
   "execution_count": null,
   "metadata": {},
   "outputs": [],
   "source": []
  },
  {
   "cell_type": "code",
   "execution_count": null,
   "metadata": {},
   "outputs": [],
   "source": []
  },
  {
   "cell_type": "markdown",
   "metadata": {},
   "source": [
    "使用PCA进行降维"
   ]
  },
  {
   "cell_type": "code",
   "execution_count": null,
   "metadata": {},
   "outputs": [],
   "source": [
    "pca = PCA(n_components=300,whiten=True)\n",
    "\n",
    "pca.fit(X)"
   ]
  },
  {
   "cell_type": "code",
   "execution_count": null,
   "metadata": {},
   "outputs": [],
   "source": [
    "X_pca = pca.transform(X)\n",
    "X_pca.shape"
   ]
  },
  {
   "cell_type": "code",
   "execution_count": null,
   "metadata": {},
   "outputs": [],
   "source": [
    "# 约等于0\n",
    "X_pca.mean(axis = 0)"
   ]
  },
  {
   "cell_type": "code",
   "execution_count": null,
   "metadata": {},
   "outputs": [],
   "source": [
    "# 方差等于1\n",
    "X_pca.std(axis = 0)\n",
    "# 归一化后结果\n",
    "# (X - min)/(max - min)\n",
    "\n",
    "# (X - mean)/std"
   ]
  },
  {
   "cell_type": "code",
   "execution_count": null,
   "metadata": {},
   "outputs": [],
   "source": [
    "from sklearn.model_selection import train_test_split"
   ]
  },
  {
   "cell_type": "code",
   "execution_count": null,
   "metadata": {},
   "outputs": [],
   "source": [
    "# X_train,X_test,画图方便保留的数据\n",
    "X_train,X_test,X_train_pca,X_test_pca,y_train,y_test = train_test_split(X,X_pca,y,test_size = 0.2)"
   ]
  },
  {
   "cell_type": "markdown",
   "metadata": {},
   "source": [
    "使用GridSearchCV我们找到了最佳的支持向量机方法"
   ]
  },
  {
   "cell_type": "code",
   "execution_count": null,
   "metadata": {},
   "outputs": [],
   "source": [
    "C = [0.001,0.1,1,5,10]\n",
    "'''gamma : float, optional (default='auto')\n",
    "    Kernel coefficient for 'rbf', 'poly' and 'sigmoid'.\n",
    "    If gamma is 'auto' then 1/n_features will be used instead.'''\n",
    "# X_pca 特征300  1/300 = 0.0033\n",
    "gamma = [0.0001,0.0002,0.0033,0.01,0.1]\n",
    "# 5 * 5 = 25\n",
    "svc = SVC()\n",
    "\n",
    "# 交叉验证，可以将参数交叉，验证\n",
    "gcv = GridSearchCV(svc,param_grid={'C':C,'gamma':gamma})"
   ]
  },
  {
   "cell_type": "code",
   "execution_count": null,
   "metadata": {
    "scrolled": true
   },
   "outputs": [],
   "source": [
    "%time gcv.fit(X_train_pca,y_train)"
   ]
  },
  {
   "cell_type": "code",
   "execution_count": null,
   "metadata": {},
   "outputs": [],
   "source": [
    "gcv.best_params_"
   ]
  },
  {
   "cell_type": "code",
   "execution_count": null,
   "metadata": {},
   "outputs": [],
   "source": [
    "gcv.best_score_"
   ]
  },
  {
   "cell_type": "markdown",
   "metadata": {},
   "source": [
    "进行数据预测"
   ]
  },
  {
   "cell_type": "code",
   "execution_count": null,
   "metadata": {},
   "outputs": [],
   "source": [
    "y_ = gcv.predict(X_test_pca)\n",
    "y_"
   ]
  },
  {
   "cell_type": "code",
   "execution_count": null,
   "metadata": {},
   "outputs": [],
   "source": [
    "gcv.score(X_test_pca,y_test)"
   ]
  },
  {
   "cell_type": "code",
   "execution_count": null,
   "metadata": {},
   "outputs": [],
   "source": []
  },
  {
   "cell_type": "markdown",
   "metadata": {},
   "source": [
    "定义方法获取预测人名和真实人名 "
   ]
  },
  {
   "cell_type": "code",
   "execution_count": null,
   "metadata": {},
   "outputs": [],
   "source": []
  },
  {
   "cell_type": "markdown",
   "metadata": {},
   "source": [
    "调用方法获取人脸预测的名字，以及人脸的真实名字"
   ]
  },
  {
   "cell_type": "code",
   "execution_count": null,
   "metadata": {},
   "outputs": [],
   "source": []
  },
  {
   "cell_type": "code",
   "execution_count": null,
   "metadata": {},
   "outputs": [],
   "source": []
  },
  {
   "cell_type": "markdown",
   "metadata": {},
   "source": [
    "定义方法绘制人脸识别结果图形"
   ]
  },
  {
   "cell_type": "code",
   "execution_count": null,
   "metadata": {},
   "outputs": [],
   "source": [
    "# 将算法预测的结果显示一下，100张图片\n",
    "X_test_pca.shape"
   ]
  },
  {
   "cell_type": "code",
   "execution_count": null,
   "metadata": {},
   "outputs": [],
   "source": []
  },
  {
   "cell_type": "code",
   "execution_count": null,
   "metadata": {},
   "outputs": [],
   "source": [
    "target_names"
   ]
  },
  {
   "cell_type": "code",
   "execution_count": null,
   "metadata": {},
   "outputs": [],
   "source": [
    "plt.figure(figsize=(10*2,10*3))\n",
    "for i in range(100):\n",
    "    \n",
    "    axes = plt.subplot(10,10,i+1)\n",
    "#     X_test_pca -------> X_test一一对应的\n",
    "    axes.imshow(X_test[i].reshape(125,94),cmap = 'gray')\n",
    "    axes.axis('off')\n",
    "    \n",
    "#     t真实数据 y_test\n",
    "\n",
    "    t = target_names[y_test[i]].split(' ')[-1]\n",
    "    \n",
    "#     p算法预测的数据y_\n",
    "    p = target_names[y_[i]].split(' ')[-1]\n",
    "    axes.set_title('True:%s\\nPredict:%s'%(t,p))"
   ]
  },
  {
   "cell_type": "code",
   "execution_count": null,
   "metadata": {},
   "outputs": [],
   "source": [
    "# 样本是否均衡\n",
    "np.unique(y_train)"
   ]
  },
  {
   "cell_type": "code",
   "execution_count": null,
   "metadata": {},
   "outputs": [],
   "source": [
    "for i in range(7):\n",
    "    count = (y_train == i).sum()\n",
    "    print(target_names[i],count)"
   ]
  },
  {
   "cell_type": "code",
   "execution_count": null,
   "metadata": {},
   "outputs": [],
   "source": [
    "from imblearn.over_sampling import SMOTE"
   ]
  },
  {
   "cell_type": "code",
   "execution_count": null,
   "metadata": {},
   "outputs": [],
   "source": [
    "smote = SMOTE()\n",
    "\n",
    "smote.fit(X_train_pca,y_train)"
   ]
  },
  {
   "cell_type": "code",
   "execution_count": null,
   "metadata": {},
   "outputs": [],
   "source": [
    "# smote 均衡的时候，应该对人脸数据进行均衡\n",
    "# 不是对降维之后的数据进行均衡\n",
    "X_train_pca2,y_train2 = smote.sample(X_train_pca,y_train)"
   ]
  },
  {
   "cell_type": "code",
   "execution_count": null,
   "metadata": {},
   "outputs": [],
   "source": [
    "for i in range(7):\n",
    "    count = (y_train2 == i).sum()\n",
    "    print(target_names[i],count)"
   ]
  },
  {
   "cell_type": "code",
   "execution_count": null,
   "metadata": {},
   "outputs": [],
   "source": [
    "svc = SVC()\n",
    "\n",
    "gcv = GridSearchCV(svc,param_grid={'C':[0.0001,0.01,0.1,1,10],'gamma':[0.0001,0.001,0.0033,0.01,0.1]})\n",
    "\n",
    "%time gcv.fit(X_train_pca2,y_train2)"
   ]
  },
  {
   "cell_type": "code",
   "execution_count": null,
   "metadata": {},
   "outputs": [],
   "source": [
    "gcv.best_params_"
   ]
  },
  {
   "cell_type": "code",
   "execution_count": null,
   "metadata": {},
   "outputs": [],
   "source": [
    "gcv.best_score_"
   ]
  },
  {
   "cell_type": "code",
   "execution_count": null,
   "metadata": {},
   "outputs": [],
   "source": [
    "y_ = gcv.predict(X_test_pca)"
   ]
  },
  {
   "cell_type": "code",
   "execution_count": null,
   "metadata": {
    "scrolled": true
   },
   "outputs": [],
   "source": [
    "gcv.score(X_test_pca,y_test)"
   ]
  },
  {
   "cell_type": "code",
   "execution_count": null,
   "metadata": {},
   "outputs": [],
   "source": [
    "X.shape"
   ]
  },
  {
   "cell_type": "code",
   "execution_count": null,
   "metadata": {},
   "outputs": [],
   "source": [
    "X_train,X_test,y_train,y_test = train_test_split(X,y,test_size = 0.2)"
   ]
  },
  {
   "cell_type": "code",
   "execution_count": null,
   "metadata": {
    "scrolled": true
   },
   "outputs": [],
   "source": [
    "for i in range(7):\n",
    "    \n",
    "    print(target_names[i],(y_train == i).sum())"
   ]
  },
  {
   "cell_type": "code",
   "execution_count": null,
   "metadata": {},
   "outputs": [],
   "source": [
    "smote = SMOTE()\n",
    "\n",
    "X_train2,y_train2 = smote.fit_sample(X_train,y_train)"
   ]
  },
  {
   "cell_type": "code",
   "execution_count": null,
   "metadata": {},
   "outputs": [],
   "source": [
    "X_train2.shape"
   ]
  },
  {
   "cell_type": "code",
   "execution_count": null,
   "metadata": {},
   "outputs": [],
   "source": [
    "index = np.random.randint(3017,size = 1)[0]\n",
    "\n",
    "img = X_train2[index].reshape(125,94)\n",
    "\n",
    "plt.figure(figsize=(2,2))\n",
    "plt.imshow(img,cmap = 'gray')"
   ]
  },
  {
   "cell_type": "code",
   "execution_count": null,
   "metadata": {},
   "outputs": [],
   "source": [
    "for i in range(7):\n",
    "    \n",
    "    print(target_names[i],(y_train2 == i).sum())"
   ]
  },
  {
   "cell_type": "code",
   "execution_count": null,
   "metadata": {},
   "outputs": [],
   "source": [
    "# X_train2,y_train2,作为训练数据\n",
    "X_train2.shape"
   ]
  },
  {
   "cell_type": "code",
   "execution_count": null,
   "metadata": {},
   "outputs": [],
   "source": [
    "pca = PCA(300,whiten=True)\n",
    "\n",
    "pca.fit(X_train2)\n",
    "\n",
    "X_train2_pca = pca.transform(X_train2)"
   ]
  },
  {
   "cell_type": "code",
   "execution_count": null,
   "metadata": {},
   "outputs": [],
   "source": [
    "svc = SVC(C = 10,gamma=0.001)\n",
    "\n",
    "svc.fit(X_train2_pca,y_train2)"
   ]
  },
  {
   "cell_type": "code",
   "execution_count": null,
   "metadata": {},
   "outputs": [],
   "source": [
    "# 预测\n",
    "X_test.shape"
   ]
  },
  {
   "cell_type": "code",
   "execution_count": null,
   "metadata": {},
   "outputs": [],
   "source": [
    "X_test_pca = pca.transform(X_test)\n",
    "\n",
    "svc.score(X_test_pca,y_test)"
   ]
  },
  {
   "cell_type": "code",
   "execution_count": null,
   "metadata": {},
   "outputs": [],
   "source": [
    "y_train"
   ]
  },
  {
   "cell_type": "code",
   "execution_count": null,
   "metadata": {
    "scrolled": true
   },
   "outputs": [],
   "source": [
    "# SMOTE K近邻算法，创造人脸，算出来的，难免模糊\n",
    "\n",
    "\n",
    "# 直接复制成431\n",
    "for i in range(7):\n",
    "    print(target_names[i],(y_train == i).sum())"
   ]
  },
  {
   "cell_type": "code",
   "execution_count": null,
   "metadata": {},
   "outputs": [],
   "source": [
    "cond = np.argwhere(y_train == 0).reshape(-1)\n",
    "\n",
    "sharon = X_train[cond]\n",
    "\n",
    "np.concatenate([sharon,sharon,sharon,sharon])"
   ]
  },
  {
   "cell_type": "code",
   "execution_count": null,
   "metadata": {},
   "outputs": [],
   "source": [
    "56*7"
   ]
  },
  {
   "cell_type": "code",
   "execution_count": null,
   "metadata": {
    "scrolled": true
   },
   "outputs": [],
   "source": [
    "431//56 +1"
   ]
  },
  {
   "cell_type": "code",
   "execution_count": null,
   "metadata": {},
   "outputs": [],
   "source": [
    "type(X_train)"
   ]
  },
  {
   "cell_type": "code",
   "execution_count": null,
   "metadata": {},
   "outputs": [],
   "source": [
    "a = np.array([2,8])"
   ]
  },
  {
   "cell_type": "code",
   "execution_count": null,
   "metadata": {},
   "outputs": [],
   "source": [
    "np.concatenate([a]*3)"
   ]
  },
  {
   "cell_type": "code",
   "execution_count": null,
   "metadata": {},
   "outputs": [],
   "source": [
    "cond = np.argwhere(y_train == 0).ravel()\n",
    "\n",
    "df = X_train[cond]\n",
    "df.shape"
   ]
  },
  {
   "cell_type": "code",
   "execution_count": null,
   "metadata": {},
   "outputs": [],
   "source": [
    "result_data = []\n",
    "result_label = []\n",
    "for i in range(7):\n",
    "    \n",
    "    cond = np.argwhere(y_train == i).ravel()\n",
    "    \n",
    "    df = X_train[cond]\n",
    "    \n",
    "    df2 = y_train[cond]\n",
    "    \n",
    "    s = df.shape[0]\n",
    "    c = 431//s + 1\n",
    "    ret = np.concatenate([df]*c)[:431]\n",
    "    ret2 = np.concatenate([df2]*c)[:431]\n",
    "    result_data.append(ret)\n",
    "    result_label.append(ret2)"
   ]
  },
  {
   "cell_type": "code",
   "execution_count": null,
   "metadata": {},
   "outputs": [],
   "source": [
    "len(result_data[4])"
   ]
  },
  {
   "cell_type": "code",
   "execution_count": null,
   "metadata": {},
   "outputs": [],
   "source": [
    "len(result_label[0])"
   ]
  },
  {
   "cell_type": "code",
   "execution_count": null,
   "metadata": {},
   "outputs": [],
   "source": [
    "X_train3 = np.concatenate([result_data[0],result_data[1],result_data[2],result_data[3],result_data[4],result_data[5],result_data[6]])"
   ]
  },
  {
   "cell_type": "code",
   "execution_count": null,
   "metadata": {},
   "outputs": [],
   "source": [
    "y_train3 = np.concatenate([result_label[0],result_label[1],result_label[2],result_label[3],result_label[4],result_label[5],result_label[6]])"
   ]
  },
  {
   "cell_type": "code",
   "execution_count": null,
   "metadata": {},
   "outputs": [],
   "source": [
    "for i in range(7):\n",
    "    print(target_names[i],(y_train3 == i).sum())"
   ]
  },
  {
   "cell_type": "code",
   "execution_count": null,
   "metadata": {},
   "outputs": [],
   "source": [
    "pca = PCA(300,whiten=True)"
   ]
  },
  {
   "cell_type": "code",
   "execution_count": null,
   "metadata": {},
   "outputs": [],
   "source": [
    "# 测试数据X_test"
   ]
  },
  {
   "cell_type": "code",
   "execution_count": null,
   "metadata": {},
   "outputs": [],
   "source": [
    "pca.fit(np.concatenate([X_train3,X_test]))"
   ]
  },
  {
   "cell_type": "code",
   "execution_count": null,
   "metadata": {},
   "outputs": [],
   "source": [
    "X_train3_pca = pca.transform(X_train3)\n",
    "\n",
    "X_test_pca = pca.transform(X_test)"
   ]
  },
  {
   "cell_type": "code",
   "execution_count": null,
   "metadata": {},
   "outputs": [],
   "source": [
    "svc = SVC(C = 10,gamma=0.001)\n",
    "\n",
    "svc.fit(X_train3_pca,y_train3)"
   ]
  },
  {
   "cell_type": "code",
   "execution_count": null,
   "metadata": {},
   "outputs": [],
   "source": [
    "svc.score(X_test_pca,y_test)"
   ]
  },
  {
   "cell_type": "markdown",
   "metadata": {},
   "source": [
    "调用方法，显示数据"
   ]
  },
  {
   "cell_type": "code",
   "execution_count": null,
   "metadata": {},
   "outputs": [],
   "source": []
  },
  {
   "cell_type": "code",
   "execution_count": null,
   "metadata": {},
   "outputs": [],
   "source": []
  },
  {
   "cell_type": "markdown",
   "metadata": {},
   "source": [
    "网络上查找图片使用机器学习模型进行预测"
   ]
  },
  {
   "cell_type": "code",
   "execution_count": null,
   "metadata": {},
   "outputs": [],
   "source": [
    "# 从网络下载图片\n",
    "bush = plt.imread('bush.jpg')\n",
    "plt.imshow(bush)"
   ]
  },
  {
   "cell_type": "markdown",
   "metadata": {},
   "source": [
    "读取网络数据进行灰度处理gray = [0.299,0.587,0.114]  \n",
    "如果是jpg图片进行归一化操作"
   ]
  },
  {
   "cell_type": "code",
   "execution_count": null,
   "metadata": {},
   "outputs": [],
   "source": [
    "bush2 = bush.max(-1)\n",
    "plt.imshow(bush2,cmap='gray')"
   ]
  },
  {
   "cell_type": "markdown",
   "metadata": {},
   "source": [
    "如果图片尺寸不符合要求，那么修改尺寸"
   ]
  },
  {
   "cell_type": "code",
   "execution_count": null,
   "metadata": {},
   "outputs": [],
   "source": [
    "plt.figure(figsize=(2,2))\n",
    "bush3 = bush2[55:210,90:200]\n",
    "plt.imshow(bush3,cmap='gray')"
   ]
  },
  {
   "cell_type": "code",
   "execution_count": null,
   "metadata": {},
   "outputs": [],
   "source": [
    "bush3.shape"
   ]
  },
  {
   "cell_type": "code",
   "execution_count": null,
   "metadata": {},
   "outputs": [],
   "source": [
    "from scipy import  ndimage as ndimage"
   ]
  },
  {
   "cell_type": "code",
   "execution_count": null,
   "metadata": {},
   "outputs": [],
   "source": [
    "plt.figure(figsize=(2,2))\n",
    "bush4 = ndimage.zoom(bush3,zoom = [125/155,94/110])\n",
    "plt.imshow(bush4,cmap='gray')"
   ]
  },
  {
   "cell_type": "code",
   "execution_count": null,
   "metadata": {},
   "outputs": [],
   "source": [
    "X_test = bush4.reshape(1,-1)\n",
    "X_test_pca = pca.transform(X_test)\n",
    "svc.predict(X_test_pca)"
   ]
  },
  {
   "cell_type": "code",
   "execution_count": null,
   "metadata": {},
   "outputs": [],
   "source": [
    "target_names[6]"
   ]
  },
  {
   "cell_type": "code",
   "execution_count": null,
   "metadata": {},
   "outputs": [],
   "source": []
  },
  {
   "cell_type": "code",
   "execution_count": null,
   "metadata": {},
   "outputs": [],
   "source": []
  },
  {
   "cell_type": "code",
   "execution_count": null,
   "metadata": {},
   "outputs": [],
   "source": []
  }
 ],
 "metadata": {
  "kernelspec": {
   "display_name": "Python 3",
   "language": "python",
   "name": "python3"
  },
  "language_info": {
   "codemirror_mode": {
    "name": "ipython",
    "version": 3
   },
   "file_extension": ".py",
   "mimetype": "text/x-python",
   "name": "python",
   "nbconvert_exporter": "python",
   "pygments_lexer": "ipython3",
   "version": "3.6.5"
  },
  "toc": {
   "base_numbering": 1,
   "nav_menu": {},
   "number_sections": true,
   "sideBar": true,
   "skip_h1_title": false,
   "title_cell": "Table of Contents",
   "title_sidebar": "Contents",
   "toc_cell": false,
   "toc_position": {},
   "toc_section_display": true,
   "toc_window_display": false
  }
 },
 "nbformat": 4,
 "nbformat_minor": 2
}
