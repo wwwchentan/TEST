{
 "cells": [
  {
   "cell_type": "code",
   "execution_count": 10,
   "metadata": {},
   "outputs": [],
   "source": [
    "# 先导三剑客\n",
    "import numpy as np\n",
    "import pandas as pd\n",
    "from pandas import DataFrame,Series\n",
    "import matplotlib.pyplot as plt\n",
    "%matplotlib inline\n",
    "\n",
    "# 再导算法svc,GridSearchCV\n",
    "from sklearn.svm import SVC\n",
    "#PCA 降维\n",
    "from sklearn.decomposition import PCA\n",
    "#筛选出合适的参数\n",
    "from sklearn.model_selection import GridSearchCV\n",
    "\n",
    "# 再导数据集\n",
    "import sklearn.datasets as datasets\n",
    "\n",
    "\n",
    "# 再导logging \n",
    "import logging\n",
    "\n"
   ]
  },
  {
   "cell_type": "code",
   "execution_count": 15,
   "metadata": {},
   "outputs": [],
   "source": [
    "# 打印log\n",
    "logging.basicConfig(level = logging.INFO,format = '%(asctime)s%(message)s')"
   ]
  },
  {
   "cell_type": "code",
   "execution_count": 17,
   "metadata": {
    "scrolled": true
   },
   "outputs": [
    {
     "data": {
      "text/plain": [
       "{'data': array([[253.66667 , 253.66667 , 254.66667 , ...,  86.666664,  86.333336,\n",
       "          86.333336],\n",
       "        [ 42.      ,  34.      ,  31.666666, ..., 121.666664, 148.      ,\n",
       "         185.33333 ],\n",
       "        [ 94.      ,  72.      ,  74.      , ..., 182.66667 , 183.      ,\n",
       "         182.33333 ],\n",
       "        ...,\n",
       "        [ 84.333336,  86.      ,  85.333336, ...,  44.      ,  35.666668,\n",
       "          30.333334],\n",
       "        [ 49.666668,  50.333332,  47.666668, ..., 178.66667 , 167.66667 ,\n",
       "         127.333336],\n",
       "        [ 31.333334,  33.333332,  26.666666, ...,  47.666668,  63.      ,\n",
       "          99.      ]], dtype=float32),\n",
       " 'images': array([[[253.66667 , 253.66667 , 254.66667 , ...,  42.333332,\n",
       "           37.666668,  39.      ],\n",
       "         [254.      , 254.      , 253.66667 , ...,  43.333332,\n",
       "           38.      ,  39.      ],\n",
       "         [254.66667 , 254.33333 , 253.33333 , ...,  44.      ,\n",
       "           38.666668,  38.      ],\n",
       "         ...,\n",
       "         [ 68.333336,  63.333332,  51.      , ...,  90.333336,\n",
       "           85.666664,  83.666664],\n",
       "         [ 64.      ,  61.333332,  51.666668, ...,  88.      ,\n",
       "           87.      ,  87.      ],\n",
       "         [ 58.666668,  58.      ,  53.      , ...,  86.666664,\n",
       "           86.333336,  86.333336]],\n",
       " \n",
       "        [[ 42.      ,  34.      ,  31.666666, ...,  41.333332,\n",
       "           34.      ,  29.666666],\n",
       "         [ 41.666668,  35.666668,  38.      , ...,  42.      ,\n",
       "           36.      ,  33.666668],\n",
       "         [ 41.      ,  43.      ,  47.333332, ...,  48.666668,\n",
       "           46.      ,  39.666668],\n",
       "         ...,\n",
       "         [ 77.333336,  77.666664,  75.666664, ..., 110.333336,\n",
       "          110.666664, 133.33333 ],\n",
       "         [ 77.666664,  78.666664,  78.333336, ..., 112.333336,\n",
       "          123.666664, 154.66667 ],\n",
       "         [ 77.      ,  76.666664,  76.666664, ..., 121.666664,\n",
       "          148.      , 185.33333 ]],\n",
       " \n",
       "        [[ 94.      ,  72.      ,  74.      , ..., 151.66667 ,\n",
       "          150.33333 , 150.      ],\n",
       "         [ 96.      ,  88.333336,  96.      , ..., 149.66667 ,\n",
       "          148.33333 , 148.      ],\n",
       "         [ 97.333336,  86.666664,  97.666664, ..., 147.66667 ,\n",
       "          145.33333 , 147.33333 ],\n",
       "         ...,\n",
       "         [ 77.      ,  72.666664,  67.      , ..., 184.33333 ,\n",
       "          183.      , 181.      ],\n",
       "         [ 83.      ,  80.666664,  72.333336, ..., 184.      ,\n",
       "          184.      , 182.      ],\n",
       "         [ 88.333336,  86.666664,  82.666664, ..., 182.66667 ,\n",
       "          183.      , 182.33333 ]],\n",
       " \n",
       "        ...,\n",
       " \n",
       "        [[ 84.333336,  86.      ,  85.333336, ...,  37.333332,\n",
       "           42.666668,  48.      ],\n",
       "         [ 86.      ,  87.      ,  84.666664, ...,  34.333332,\n",
       "           38.333332,  43.666668],\n",
       "         [ 89.      ,  90.      ,  85.333336, ...,  33.      ,\n",
       "           37.      ,  41.      ],\n",
       "         ...,\n",
       "         [ 80.666664,  86.666664,  85.666664, ...,  58.666668,\n",
       "           55.      ,  45.666668],\n",
       "         [ 72.666664,  79.333336,  81.666664, ...,  51.      ,\n",
       "           46.      ,  36.666668],\n",
       "         [ 66.666664,  69.666664,  74.      , ...,  44.      ,\n",
       "           35.666668,  30.333334]],\n",
       " \n",
       "        [[ 49.666668,  50.333332,  47.666668, ..., 157.      ,\n",
       "          150.33333 , 140.      ],\n",
       "         [ 46.333332,  49.      ,  50.666668, ..., 159.      ,\n",
       "          154.      , 145.33333 ],\n",
       "         [ 50.666668,  51.      ,  55.666668, ..., 156.33333 ,\n",
       "          156.      , 151.      ],\n",
       "         ...,\n",
       "         [ 61.333332,  60.333332,  63.      , ..., 168.33333 ,\n",
       "          173.33333 , 169.      ],\n",
       "         [ 61.333332,  60.333332,  63.      , ..., 179.      ,\n",
       "          176.      , 153.      ],\n",
       "         [ 62.      ,  60.      ,  61.666668, ..., 178.66667 ,\n",
       "          167.66667 , 127.333336]],\n",
       " \n",
       "        [[ 31.333334,  33.333332,  26.666666, ...,  48.333332,\n",
       "           48.      ,  51.333332],\n",
       "         [ 37.      ,  27.333334,  24.333334, ...,  47.333332,\n",
       "           45.      ,  51.333332],\n",
       "         [ 35.      ,  28.      ,  23.333334, ...,  40.666668,\n",
       "           39.      ,  43.333332],\n",
       "         ...,\n",
       "         [ 43.333332,  41.333332,  41.666668, ...,  37.666668,\n",
       "           49.666668,  61.      ],\n",
       "         [ 47.      ,  46.      ,  50.666668, ...,  44.      ,\n",
       "           61.333332,  84.333336],\n",
       "         [ 46.      ,  46.      ,  46.666668, ...,  47.666668,\n",
       "           63.      ,  99.      ]]], dtype=float32),\n",
       " 'target': array([5, 6, 3, ..., 5, 3, 5], dtype=int64),\n",
       " 'target_names': array(['Ariel Sharon', 'Colin Powell', 'Donald Rumsfeld', 'George W Bush',\n",
       "        'Gerhard Schroeder', 'Hugo Chavez', 'Tony Blair'], dtype='<U17'),\n",
       " 'DESCR': 'LFW faces dataset'}"
      ]
     },
     "execution_count": 17,
     "metadata": {},
     "output_type": "execute_result"
    }
   ],
   "source": [
    "#筛选数据集\n",
    "faces = datasets.fetch_lfw_people(resize=1, min_faces_per_person=70)\n",
    "faces"
   ]
  },
  {
   "cell_type": "code",
   "execution_count": 20,
   "metadata": {},
   "outputs": [
    {
     "data": {
      "text/plain": [
       "(1288, 125, 94)"
      ]
     },
     "execution_count": 20,
     "metadata": {},
     "output_type": "execute_result"
    }
   ],
   "source": [
    "faces['images'].shape"
   ]
  },
  {
   "cell_type": "code",
   "execution_count": 21,
   "metadata": {},
   "outputs": [
    {
     "data": {
      "text/plain": [
       "array(['Ariel Sharon', 'Colin Powell', 'Donald Rumsfeld', 'George W Bush',\n",
       "       'Gerhard Schroeder', 'Hugo Chavez', 'Tony Blair'], dtype='<U17')"
      ]
     },
     "execution_count": 21,
     "metadata": {},
     "output_type": "execute_result"
    }
   ],
   "source": [
    "faces['target_names']"
   ]
  },
  {
   "cell_type": "code",
   "execution_count": 46,
   "metadata": {},
   "outputs": [
    {
     "data": {
      "text/plain": [
       "<matplotlib.image.AxesImage at 0x1ce637657f0>"
      ]
     },
     "execution_count": 46,
     "metadata": {},
     "output_type": "execute_result"
    },
    {
     "data": {
      "image/png": "[encoded data removed]",
      "text/plain": [
       "<Figure size 144x144 with 1 Axes>"
      ]
     },
     "metadata": {},
     "output_type": "display_data"
    }
   ],
   "source": [
    "# 随机选取一张图片\n",
    "index = np.random.randint(1288,size=1)[0]\n",
    "plt.figure(figsize=(2,2))\n",
    "plt.axis('off')\n",
    "plt.imshow(faces['images'][index],cmap='gray')"
   ]
  },
  {
   "cell_type": "code",
   "execution_count": 49,
   "metadata": {},
   "outputs": [
    {
     "data": {
      "text/plain": [
       "(1288, 125, 94)"
      ]
     },
     "execution_count": 49,
     "metadata": {},
     "output_type": "execute_result"
    }
   ],
   "source": [
    "#查看人脸结构\n",
    "faces['images'].shape"
   ]
  },
  {
   "cell_type": "code",
   "execution_count": 53,
   "metadata": {},
   "outputs": [
    {
     "data": {
      "text/plain": [
       "array(['Ariel Sharon', 'Colin Powell', 'Donald Rumsfeld', 'George W Bush',\n",
       "       'Gerhard Schroeder', 'Hugo Chavez', 'Tony Blair'], dtype='<U17')"
      ]
     },
     "execution_count": 53,
     "metadata": {},
     "output_type": "execute_result"
    }
   ],
   "source": [
    "# 定义训练数据集,预测数据集\n",
    "X = faces['data']\n",
    "\n",
    "y = faces['target']\n",
    "\n",
    "target_names = faces['target_names']\n",
    "target_names"
   ]
  },
  {
   "cell_type": "code",
   "execution_count": 54,
   "metadata": {},
   "outputs": [
    {
     "data": {
      "text/plain": [
       "(1288, 11750)"
      ]
     },
     "execution_count": 54,
     "metadata": {},
     "output_type": "execute_result"
    }
   ],
   "source": [
    "X.shape\n",
    "# 11750个属性,这里我们取出300个重要的特征\n",
    "#即取出权重大于90%的特征\n"
   ]
  },
  {
   "cell_type": "code",
   "execution_count": 59,
   "metadata": {},
   "outputs": [
    {
     "data": {
      "text/plain": [
       "array([[5.1, 3.5, 1.4, 0.2],\n",
       "       [4.9, 3. , 1.4, 0.2],\n",
       "       [4.7, 3.2, 1.3, 0.2],\n",
       "       [4.6, 3.1, 1.5, 0.2],\n",
       "       [5. , 3.6, 1.4, 0.2],\n",
       "       [5.4, 3.9, 1.7, 0.4],\n",
       "       [4.6, 3.4, 1.4, 0.3],\n",
       "       [5. , 3.4, 1.5, 0.2],\n",
       "       [4.4, 2.9, 1.4, 0.2],\n",
       "       [4.9, 3.1, 1.5, 0.1],\n",
       "       [5.4, 3.7, 1.5, 0.2],\n",
       "       [4.8, 3.4, 1.6, 0.2],\n",
       "       [4.8, 3. , 1.4, 0.1],\n",
       "       [4.3, 3. , 1.1, 0.1],\n",
       "       [5.8, 4. , 1.2, 0.2],\n",
       "       [5.7, 4.4, 1.5, 0.4],\n",
       "       [5.4, 3.9, 1.3, 0.4],\n",
       "       [5.1, 3.5, 1.4, 0.3],\n",
       "       [5.7, 3.8, 1.7, 0.3],\n",
       "       [5.1, 3.8, 1.5, 0.3],\n",
       "       [5.4, 3.4, 1.7, 0.2],\n",
       "       [5.1, 3.7, 1.5, 0.4],\n",
       "       [4.6, 3.6, 1. , 0.2],\n",
       "       [5.1, 3.3, 1.7, 0.5],\n",
       "       [4.8, 3.4, 1.9, 0.2],\n",
       "       [5. , 3. , 1.6, 0.2],\n",
       "       [5. , 3.4, 1.6, 0.4],\n",
       "       [5.2, 3.5, 1.5, 0.2],\n",
       "       [5.2, 3.4, 1.4, 0.2],\n",
       "       [4.7, 3.2, 1.6, 0.2],\n",
       "       [4.8, 3.1, 1.6, 0.2],\n",
       "       [5.4, 3.4, 1.5, 0.4],\n",
       "       [5.2, 4.1, 1.5, 0.1],\n",
       "       [5.5, 4.2, 1.4, 0.2],\n",
       "       [4.9, 3.1, 1.5, 0.1],\n",
       "       [5. , 3.2, 1.2, 0.2],\n",
       "       [5.5, 3.5, 1.3, 0.2],\n",
       "       [4.9, 3.1, 1.5, 0.1],\n",
       "       [4.4, 3. , 1.3, 0.2],\n",
       "       [5.1, 3.4, 1.5, 0.2],\n",
       "       [5. , 3.5, 1.3, 0.3],\n",
       "       [4.5, 2.3, 1.3, 0.3],\n",
       "       [4.4, 3.2, 1.3, 0.2],\n",
       "       [5. , 3.5, 1.6, 0.6],\n",
       "       [5.1, 3.8, 1.9, 0.4],\n",
       "       [4.8, 3. , 1.4, 0.3],\n",
       "       [5.1, 3.8, 1.6, 0.2],\n",
       "       [4.6, 3.2, 1.4, 0.2],\n",
       "       [5.3, 3.7, 1.5, 0.2],\n",
       "       [5. , 3.3, 1.4, 0.2],\n",
       "       [7. , 3.2, 4.7, 1.4],\n",
       "       [6.4, 3.2, 4.5, 1.5],\n",
       "       [6.9, 3.1, 4.9, 1.5],\n",
       "       [5.5, 2.3, 4. , 1.3],\n",
       "       [6.5, 2.8, 4.6, 1.5],\n",
       "       [5.7, 2.8, 4.5, 1.3],\n",
       "       [6.3, 3.3, 4.7, 1.6],\n",
       "       [4.9, 2.4, 3.3, 1. ],\n",
       "       [6.6, 2.9, 4.6, 1.3],\n",
       "       [5.2, 2.7, 3.9, 1.4],\n",
       "       [5. , 2. , 3.5, 1. ],\n",
       "       [5.9, 3. , 4.2, 1.5],\n",
       "       [6. , 2.2, 4. , 1. ],\n",
       "       [6.1, 2.9, 4.7, 1.4],\n",
       "       [5.6, 2.9, 3.6, 1.3],\n",
       "       [6.7, 3.1, 4.4, 1.4],\n",
       "       [5.6, 3. , 4.5, 1.5],\n",
       "       [5.8, 2.7, 4.1, 1. ],\n",
       "       [6.2, 2.2, 4.5, 1.5],\n",
       "       [5.6, 2.5, 3.9, 1.1],\n",
       "       [5.9, 3.2, 4.8, 1.8],\n",
       "       [6.1, 2.8, 4. , 1.3],\n",
       "       [6.3, 2.5, 4.9, 1.5],\n",
       "       [6.1, 2.8, 4.7, 1.2],\n",
       "       [6.4, 2.9, 4.3, 1.3],\n",
       "       [6.6, 3. , 4.4, 1.4],\n",
       "       [6.8, 2.8, 4.8, 1.4],\n",
       "       [6.7, 3. , 5. , 1.7],\n",
       "       [6. , 2.9, 4.5, 1.5],\n",
       "       [5.7, 2.6, 3.5, 1. ],\n",
       "       [5.5, 2.4, 3.8, 1.1],\n",
       "       [5.5, 2.4, 3.7, 1. ],\n",
       "       [5.8, 2.7, 3.9, 1.2],\n",
       "       [6. , 2.7, 5.1, 1.6],\n",
       "       [5.4, 3. , 4.5, 1.5],\n",
       "       [6. , 3.4, 4.5, 1.6],\n",
       "       [6.7, 3.1, 4.7, 1.5],\n",
       "       [6.3, 2.3, 4.4, 1.3],\n",
       "       [5.6, 3. , 4.1, 1.3],\n",
       "       [5.5, 2.5, 4. , 1.3],\n",
       "       [5.5, 2.6, 4.4, 1.2],\n",
       "       [6.1, 3. , 4.6, 1.4],\n",
       "       [5.8, 2.6, 4. , 1.2],\n",
       "       [5. , 2.3, 3.3, 1. ],\n",
       "       [5.6, 2.7, 4.2, 1.3],\n",
       "       [5.7, 3. , 4.2, 1.2],\n",
       "       [5.7, 2.9, 4.2, 1.3],\n",
       "       [6.2, 2.9, 4.3, 1.3],\n",
       "       [5.1, 2.5, 3. , 1.1],\n",
       "       [5.7, 2.8, 4.1, 1.3],\n",
       "       [6.3, 3.3, 6. , 2.5],\n",
       "       [5.8, 2.7, 5.1, 1.9],\n",
       "       [7.1, 3. , 5.9, 2.1],\n",
       "       [6.3, 2.9, 5.6, 1.8],\n",
       "       [6.5, 3. , 5.8, 2.2],\n",
       "       [7.6, 3. , 6.6, 2.1],\n",
       "       [4.9, 2.5, 4.5, 1.7],\n",
       "       [7.3, 2.9, 6.3, 1.8],\n",
       "       [6.7, 2.5, 5.8, 1.8],\n",
       "       [7.2, 3.6, 6.1, 2.5],\n",
       "       [6.5, 3.2, 5.1, 2. ],\n",
       "       [6.4, 2.7, 5.3, 1.9],\n",
       "       [6.8, 3. , 5.5, 2.1],\n",
       "       [5.7, 2.5, 5. , 2. ],\n",
       "       [5.8, 2.8, 5.1, 2.4],\n",
       "       [6.4, 3.2, 5.3, 2.3],\n",
       "       [6.5, 3. , 5.5, 1.8],\n",
       "       [7.7, 3.8, 6.7, 2.2],\n",
       "       [7.7, 2.6, 6.9, 2.3],\n",
       "       [6. , 2.2, 5. , 1.5],\n",
       "       [6.9, 3.2, 5.7, 2.3],\n",
       "       [5.6, 2.8, 4.9, 2. ],\n",
       "       [7.7, 2.8, 6.7, 2. ],\n",
       "       [6.3, 2.7, 4.9, 1.8],\n",
       "       [6.7, 3.3, 5.7, 2.1],\n",
       "       [7.2, 3.2, 6. , 1.8],\n",
       "       [6.2, 2.8, 4.8, 1.8],\n",
       "       [6.1, 3. , 4.9, 1.8],\n",
       "       [6.4, 2.8, 5.6, 2.1],\n",
       "       [7.2, 3. , 5.8, 1.6],\n",
       "       [7.4, 2.8, 6.1, 1.9],\n",
       "       [7.9, 3.8, 6.4, 2. ],\n",
       "       [6.4, 2.8, 5.6, 2.2],\n",
       "       [6.3, 2.8, 5.1, 1.5],\n",
       "       [6.1, 2.6, 5.6, 1.4],\n",
       "       [7.7, 3. , 6.1, 2.3],\n",
       "       [6.3, 3.4, 5.6, 2.4],\n",
       "       [6.4, 3.1, 5.5, 1.8],\n",
       "       [6. , 3. , 4.8, 1.8],\n",
       "       [6.9, 3.1, 5.4, 2.1],\n",
       "       [6.7, 3.1, 5.6, 2.4],\n",
       "       [6.9, 3.1, 5.1, 2.3],\n",
       "       [5.8, 2.7, 5.1, 1.9],\n",
       "       [6.8, 3.2, 5.9, 2.3],\n",
       "       [6.7, 3.3, 5.7, 2.5],\n",
       "       [6.7, 3. , 5.2, 2.3],\n",
       "       [6.3, 2.5, 5. , 1.9],\n",
       "       [6.5, 3. , 5.2, 2. ],\n",
       "       [6.2, 3.4, 5.4, 2.3],\n",
       "       [5.9, 3. , 5.1, 1.8]])"
      ]
     },
     "execution_count": 59,
     "metadata": {},
     "output_type": "execute_result"
    }
   ],
   "source": [
    "# 因数据属性太多,计算复杂,这里我们选用鸢尾花演示,\n",
    "# 先加载鸢尾花数据\n",
    "iris = datasets.load_iris()['data']\n",
    "iris"
   ]
  },
  {
   "cell_type": "markdown",
   "metadata": {},
   "source": [
    "# PCA 降维\n",
    "主成分分析（Principal Components Analysis），简称PCA，是一种数据降维技术，用于数据预处理。一般我们获取的原始数据维度都很高，比如1000个特征，在这1000个特征中可能包含了很多无用的信息或者噪声，真正有用的特征才100个，那么我们可以运用PCA算法将1000个特征降到100个特征。这样不仅可以去除无用的噪声，还能减少很大的计算量。\n",
    "原始数据集dataMat 行代表样本,列代表特征\n",
    "1)零均值化,行代表样本,列代表特征,\n",
    "零均值化就是求每一列的平均值,然后该列上的所有数都减去这个均值\n",
    "menaVal = np.mean(dataMat,axis = 0)#按列求均值,即求各个特征的均值\n",
    "newData = dataMat - meanVal\n",
    "2)求协方差矩阵\n",
    "covMat = np.cov(newData,rowvar = 0)\n",
    "rowvar = 0 传入的数据一行代表一份样本\n",
    "若非0 说明传入的数据一列代表一个样本\n",
    "3)求特征值,特征矩阵\n",
    "eigVals,eigVects = np.linalg.eig(covMat)\n",
    "eigVals存放特征值,行向量\n",
    "eigVects 存放特征向量,每一列代表一个特征向量\n",
    "特征值和特征向量是一一对应的\n",
    "4)保留主要成分[即保留值比较大的前n个特征]\n",
    "    -第三步得到的特征值向量eigVals,对其从小到大排序,np.argsort(eigVals)\n",
    "    -取出排在前面最大的n个特征向量(根据下表取),\n",
    "     它们组成了一个新的特征空间的一组基n_eigVect.\n",
    "    -将零均值化后的数据乘以n_eigVect就可以得到降维后的数据lowDDataMat\n",
    "    -重构数据:乘以n_eigVect的转置矩阵,再加上均值meanVal\n",
    "    (eigValIndice=np.argsort(eigVals)            #对特征值从小到大排序  \n",
    "     n_eigValIndice=eigValIndice[-1:-(n+1):-1]   #最大的n个特征值的下标  \n",
    "     n_eigVect=eigVects[:,n_eigValIndice]        #最大的n个特征值对应的特征向量  \n",
    "     lowDDataMat=newData*n_eigVect               #低维特征空间的数据  \n",
    "     reconMat=(lowDDataMat*n_eigVect.T)+meanVal  #重构数据  )\n",
    "*)如何选择主成分个数,降到几维数据,即n取多少合适,\n",
    "    一般通过方差百分比实现.(特征值从大到小排列,前n个求和/总和 >0.99)\n",
    "    (def percentage2n(eigVals,percentage):  \n",
    "    sortArray=np.sort(eigVals)   #升序  \n",
    "    sortArray=sortArray[-1::-1]  #逆转，即降序  \n",
    "    arraySum=sum(sortArray)  \n",
    "    tmpSum=0  \n",
    "    num=0  \n",
    "    for i in sortArray:  \n",
    "        tmpSum+=i  \n",
    "        num+=1  \n",
    "        if tmpSum>=arraySum*percentage:  \n",
    "            return num )\n",
    "    "
   ]
  },
  {
   "cell_type": "code",
   "execution_count": 68,
   "metadata": {},
   "outputs": [
    {
     "data": {
      "text/plain": [
       "array([[-7.43333333e-01,  4.46000000e-01, -2.35866667e+00,\n",
       "        -9.98666667e-01],\n",
       "       [-9.43333333e-01, -5.40000000e-02, -2.35866667e+00,\n",
       "        -9.98666667e-01],\n",
       "       [-1.14333333e+00,  1.46000000e-01, -2.45866667e+00,\n",
       "        -9.98666667e-01],\n",
       "       [-1.24333333e+00,  4.60000000e-02, -2.25866667e+00,\n",
       "        -9.98666667e-01],\n",
       "       [-8.43333333e-01,  5.46000000e-01, -2.35866667e+00,\n",
       "        -9.98666667e-01],\n",
       "       [-4.43333333e-01,  8.46000000e-01, -2.05866667e+00,\n",
       "        -7.98666667e-01],\n",
       "       [-1.24333333e+00,  3.46000000e-01, -2.35866667e+00,\n",
       "        -8.98666667e-01],\n",
       "       [-8.43333333e-01,  3.46000000e-01, -2.25866667e+00,\n",
       "        -9.98666667e-01],\n",
       "       [-1.44333333e+00, -1.54000000e-01, -2.35866667e+00,\n",
       "        -9.98666667e-01],\n",
       "       [-9.43333333e-01,  4.60000000e-02, -2.25866667e+00,\n",
       "        -1.09866667e+00],\n",
       "       [-4.43333333e-01,  6.46000000e-01, -2.25866667e+00,\n",
       "        -9.98666667e-01],\n",
       "       [-1.04333333e+00,  3.46000000e-01, -2.15866667e+00,\n",
       "        -9.98666667e-01],\n",
       "       [-1.04333333e+00, -5.40000000e-02, -2.35866667e+00,\n",
       "        -1.09866667e+00],\n",
       "       [-1.54333333e+00, -5.40000000e-02, -2.65866667e+00,\n",
       "        -1.09866667e+00],\n",
       "       [-4.33333333e-02,  9.46000000e-01, -2.55866667e+00,\n",
       "        -9.98666667e-01],\n",
       "       [-1.43333333e-01,  1.34600000e+00, -2.25866667e+00,\n",
       "        -7.98666667e-01],\n",
       "       [-4.43333333e-01,  8.46000000e-01, -2.45866667e+00,\n",
       "        -7.98666667e-01],\n",
       "       [-7.43333333e-01,  4.46000000e-01, -2.35866667e+00,\n",
       "        -8.98666667e-01],\n",
       "       [-1.43333333e-01,  7.46000000e-01, -2.05866667e+00,\n",
       "        -8.98666667e-01],\n",
       "       [-7.43333333e-01,  7.46000000e-01, -2.25866667e+00,\n",
       "        -8.98666667e-01],\n",
       "       [-4.43333333e-01,  3.46000000e-01, -2.05866667e+00,\n",
       "        -9.98666667e-01],\n",
       "       [-7.43333333e-01,  6.46000000e-01, -2.25866667e+00,\n",
       "        -7.98666667e-01],\n",
       "       [-1.24333333e+00,  5.46000000e-01, -2.75866667e+00,\n",
       "        -9.98666667e-01],\n",
       "       [-7.43333333e-01,  2.46000000e-01, -2.05866667e+00,\n",
       "        -6.98666667e-01],\n",
       "       [-1.04333333e+00,  3.46000000e-01, -1.85866667e+00,\n",
       "        -9.98666667e-01],\n",
       "       [-8.43333333e-01, -5.40000000e-02, -2.15866667e+00,\n",
       "        -9.98666667e-01],\n",
       "       [-8.43333333e-01,  3.46000000e-01, -2.15866667e+00,\n",
       "        -7.98666667e-01],\n",
       "       [-6.43333333e-01,  4.46000000e-01, -2.25866667e+00,\n",
       "        -9.98666667e-01],\n",
       "       [-6.43333333e-01,  3.46000000e-01, -2.35866667e+00,\n",
       "        -9.98666667e-01],\n",
       "       [-1.14333333e+00,  1.46000000e-01, -2.15866667e+00,\n",
       "        -9.98666667e-01],\n",
       "       [-1.04333333e+00,  4.60000000e-02, -2.15866667e+00,\n",
       "        -9.98666667e-01],\n",
       "       [-4.43333333e-01,  3.46000000e-01, -2.25866667e+00,\n",
       "        -7.98666667e-01],\n",
       "       [-6.43333333e-01,  1.04600000e+00, -2.25866667e+00,\n",
       "        -1.09866667e+00],\n",
       "       [-3.43333333e-01,  1.14600000e+00, -2.35866667e+00,\n",
       "        -9.98666667e-01],\n",
       "       [-9.43333333e-01,  4.60000000e-02, -2.25866667e+00,\n",
       "        -1.09866667e+00],\n",
       "       [-8.43333333e-01,  1.46000000e-01, -2.55866667e+00,\n",
       "        -9.98666667e-01],\n",
       "       [-3.43333333e-01,  4.46000000e-01, -2.45866667e+00,\n",
       "        -9.98666667e-01],\n",
       "       [-9.43333333e-01,  4.60000000e-02, -2.25866667e+00,\n",
       "        -1.09866667e+00],\n",
       "       [-1.44333333e+00, -5.40000000e-02, -2.45866667e+00,\n",
       "        -9.98666667e-01],\n",
       "       [-7.43333333e-01,  3.46000000e-01, -2.25866667e+00,\n",
       "        -9.98666667e-01],\n",
       "       [-8.43333333e-01,  4.46000000e-01, -2.45866667e+00,\n",
       "        -8.98666667e-01],\n",
       "       [-1.34333333e+00, -7.54000000e-01, -2.45866667e+00,\n",
       "        -8.98666667e-01],\n",
       "       [-1.44333333e+00,  1.46000000e-01, -2.45866667e+00,\n",
       "        -9.98666667e-01],\n",
       "       [-8.43333333e-01,  4.46000000e-01, -2.15866667e+00,\n",
       "        -5.98666667e-01],\n",
       "       [-7.43333333e-01,  7.46000000e-01, -1.85866667e+00,\n",
       "        -7.98666667e-01],\n",
       "       [-1.04333333e+00, -5.40000000e-02, -2.35866667e+00,\n",
       "        -8.98666667e-01],\n",
       "       [-7.43333333e-01,  7.46000000e-01, -2.15866667e+00,\n",
       "        -9.98666667e-01],\n",
       "       [-1.24333333e+00,  1.46000000e-01, -2.35866667e+00,\n",
       "        -9.98666667e-01],\n",
       "       [-5.43333333e-01,  6.46000000e-01, -2.25866667e+00,\n",
       "        -9.98666667e-01],\n",
       "       [-8.43333333e-01,  2.46000000e-01, -2.35866667e+00,\n",
       "        -9.98666667e-01],\n",
       "       [ 1.15666667e+00,  1.46000000e-01,  9.41333333e-01,\n",
       "         2.01333333e-01],\n",
       "       [ 5.56666667e-01,  1.46000000e-01,  7.41333333e-01,\n",
       "         3.01333333e-01],\n",
       "       [ 1.05666667e+00,  4.60000000e-02,  1.14133333e+00,\n",
       "         3.01333333e-01],\n",
       "       [-3.43333333e-01, -7.54000000e-01,  2.41333333e-01,\n",
       "         1.01333333e-01],\n",
       "       [ 6.56666667e-01, -2.54000000e-01,  8.41333333e-01,\n",
       "         3.01333333e-01],\n",
       "       [-1.43333333e-01, -2.54000000e-01,  7.41333333e-01,\n",
       "         1.01333333e-01],\n",
       "       [ 4.56666667e-01,  2.46000000e-01,  9.41333333e-01,\n",
       "         4.01333333e-01],\n",
       "       [-9.43333333e-01, -6.54000000e-01, -4.58666667e-01,\n",
       "        -1.98666667e-01],\n",
       "       [ 7.56666667e-01, -1.54000000e-01,  8.41333333e-01,\n",
       "         1.01333333e-01],\n",
       "       [-6.43333333e-01, -3.54000000e-01,  1.41333333e-01,\n",
       "         2.01333333e-01],\n",
       "       [-8.43333333e-01, -1.05400000e+00, -2.58666667e-01,\n",
       "        -1.98666667e-01],\n",
       "       [ 5.66666667e-02, -5.40000000e-02,  4.41333333e-01,\n",
       "         3.01333333e-01],\n",
       "       [ 1.56666667e-01, -8.54000000e-01,  2.41333333e-01,\n",
       "        -1.98666667e-01],\n",
       "       [ 2.56666667e-01, -1.54000000e-01,  9.41333333e-01,\n",
       "         2.01333333e-01],\n",
       "       [-2.43333333e-01, -1.54000000e-01, -1.58666667e-01,\n",
       "         1.01333333e-01],\n",
       "       [ 8.56666667e-01,  4.60000000e-02,  6.41333333e-01,\n",
       "         2.01333333e-01],\n",
       "       [-2.43333333e-01, -5.40000000e-02,  7.41333333e-01,\n",
       "         3.01333333e-01],\n",
       "       [-4.33333333e-02, -3.54000000e-01,  3.41333333e-01,\n",
       "        -1.98666667e-01],\n",
       "       [ 3.56666667e-01, -8.54000000e-01,  7.41333333e-01,\n",
       "         3.01333333e-01],\n",
       "       [-2.43333333e-01, -5.54000000e-01,  1.41333333e-01,\n",
       "        -9.86666667e-02],\n",
       "       [ 5.66666667e-02,  1.46000000e-01,  1.04133333e+00,\n",
       "         6.01333333e-01],\n",
       "       [ 2.56666667e-01, -2.54000000e-01,  2.41333333e-01,\n",
       "         1.01333333e-01],\n",
       "       [ 4.56666667e-01, -5.54000000e-01,  1.14133333e+00,\n",
       "         3.01333333e-01],\n",
       "       [ 2.56666667e-01, -2.54000000e-01,  9.41333333e-01,\n",
       "         1.33333333e-03],\n",
       "       [ 5.56666667e-01, -1.54000000e-01,  5.41333333e-01,\n",
       "         1.01333333e-01],\n",
       "       [ 7.56666667e-01, -5.40000000e-02,  6.41333333e-01,\n",
       "         2.01333333e-01],\n",
       "       [ 9.56666667e-01, -2.54000000e-01,  1.04133333e+00,\n",
       "         2.01333333e-01],\n",
       "       [ 8.56666667e-01, -5.40000000e-02,  1.24133333e+00,\n",
       "         5.01333333e-01],\n",
       "       [ 1.56666667e-01, -1.54000000e-01,  7.41333333e-01,\n",
       "         3.01333333e-01],\n",
       "       [-1.43333333e-01, -4.54000000e-01, -2.58666667e-01,\n",
       "        -1.98666667e-01],\n",
       "       [-3.43333333e-01, -6.54000000e-01,  4.13333333e-02,\n",
       "        -9.86666667e-02],\n",
       "       [-3.43333333e-01, -6.54000000e-01, -5.86666667e-02,\n",
       "        -1.98666667e-01],\n",
       "       [-4.33333333e-02, -3.54000000e-01,  1.41333333e-01,\n",
       "         1.33333333e-03],\n",
       "       [ 1.56666667e-01, -3.54000000e-01,  1.34133333e+00,\n",
       "         4.01333333e-01],\n",
       "       [-4.43333333e-01, -5.40000000e-02,  7.41333333e-01,\n",
       "         3.01333333e-01],\n",
       "       [ 1.56666667e-01,  3.46000000e-01,  7.41333333e-01,\n",
       "         4.01333333e-01],\n",
       "       [ 8.56666667e-01,  4.60000000e-02,  9.41333333e-01,\n",
       "         3.01333333e-01],\n",
       "       [ 4.56666667e-01, -7.54000000e-01,  6.41333333e-01,\n",
       "         1.01333333e-01],\n",
       "       [-2.43333333e-01, -5.40000000e-02,  3.41333333e-01,\n",
       "         1.01333333e-01],\n",
       "       [-3.43333333e-01, -5.54000000e-01,  2.41333333e-01,\n",
       "         1.01333333e-01],\n",
       "       [-3.43333333e-01, -4.54000000e-01,  6.41333333e-01,\n",
       "         1.33333333e-03],\n",
       "       [ 2.56666667e-01, -5.40000000e-02,  8.41333333e-01,\n",
       "         2.01333333e-01],\n",
       "       [-4.33333333e-02, -4.54000000e-01,  2.41333333e-01,\n",
       "         1.33333333e-03],\n",
       "       [-8.43333333e-01, -7.54000000e-01, -4.58666667e-01,\n",
       "        -1.98666667e-01],\n",
       "       [-2.43333333e-01, -3.54000000e-01,  4.41333333e-01,\n",
       "         1.01333333e-01],\n",
       "       [-1.43333333e-01, -5.40000000e-02,  4.41333333e-01,\n",
       "         1.33333333e-03],\n",
       "       [-1.43333333e-01, -1.54000000e-01,  4.41333333e-01,\n",
       "         1.01333333e-01],\n",
       "       [ 3.56666667e-01, -1.54000000e-01,  5.41333333e-01,\n",
       "         1.01333333e-01],\n",
       "       [-7.43333333e-01, -5.54000000e-01, -7.58666667e-01,\n",
       "        -9.86666667e-02],\n",
       "       [-1.43333333e-01, -2.54000000e-01,  3.41333333e-01,\n",
       "         1.01333333e-01],\n",
       "       [ 4.56666667e-01,  2.46000000e-01,  2.24133333e+00,\n",
       "         1.30133333e+00],\n",
       "       [-4.33333333e-02, -3.54000000e-01,  1.34133333e+00,\n",
       "         7.01333333e-01],\n",
       "       [ 1.25666667e+00, -5.40000000e-02,  2.14133333e+00,\n",
       "         9.01333333e-01],\n",
       "       [ 4.56666667e-01, -1.54000000e-01,  1.84133333e+00,\n",
       "         6.01333333e-01],\n",
       "       [ 6.56666667e-01, -5.40000000e-02,  2.04133333e+00,\n",
       "         1.00133333e+00],\n",
       "       [ 1.75666667e+00, -5.40000000e-02,  2.84133333e+00,\n",
       "         9.01333333e-01],\n",
       "       [-9.43333333e-01, -5.54000000e-01,  7.41333333e-01,\n",
       "         5.01333333e-01],\n",
       "       [ 1.45666667e+00, -1.54000000e-01,  2.54133333e+00,\n",
       "         6.01333333e-01],\n",
       "       [ 8.56666667e-01, -5.54000000e-01,  2.04133333e+00,\n",
       "         6.01333333e-01],\n",
       "       [ 1.35666667e+00,  5.46000000e-01,  2.34133333e+00,\n",
       "         1.30133333e+00],\n",
       "       [ 6.56666667e-01,  1.46000000e-01,  1.34133333e+00,\n",
       "         8.01333333e-01],\n",
       "       [ 5.56666667e-01, -3.54000000e-01,  1.54133333e+00,\n",
       "         7.01333333e-01],\n",
       "       [ 9.56666667e-01, -5.40000000e-02,  1.74133333e+00,\n",
       "         9.01333333e-01],\n",
       "       [-1.43333333e-01, -5.54000000e-01,  1.24133333e+00,\n",
       "         8.01333333e-01],\n",
       "       [-4.33333333e-02, -2.54000000e-01,  1.34133333e+00,\n",
       "         1.20133333e+00],\n",
       "       [ 5.56666667e-01,  1.46000000e-01,  1.54133333e+00,\n",
       "         1.10133333e+00],\n",
       "       [ 6.56666667e-01, -5.40000000e-02,  1.74133333e+00,\n",
       "         6.01333333e-01],\n",
       "       [ 1.85666667e+00,  7.46000000e-01,  2.94133333e+00,\n",
       "         1.00133333e+00],\n",
       "       [ 1.85666667e+00, -4.54000000e-01,  3.14133333e+00,\n",
       "         1.10133333e+00],\n",
       "       [ 1.56666667e-01, -8.54000000e-01,  1.24133333e+00,\n",
       "         3.01333333e-01],\n",
       "       [ 1.05666667e+00,  1.46000000e-01,  1.94133333e+00,\n",
       "         1.10133333e+00],\n",
       "       [-2.43333333e-01, -2.54000000e-01,  1.14133333e+00,\n",
       "         8.01333333e-01],\n",
       "       [ 1.85666667e+00, -2.54000000e-01,  2.94133333e+00,\n",
       "         8.01333333e-01],\n",
       "       [ 4.56666667e-01, -3.54000000e-01,  1.14133333e+00,\n",
       "         6.01333333e-01],\n",
       "       [ 8.56666667e-01,  2.46000000e-01,  1.94133333e+00,\n",
       "         9.01333333e-01],\n",
       "       [ 1.35666667e+00,  1.46000000e-01,  2.24133333e+00,\n",
       "         6.01333333e-01],\n",
       "       [ 3.56666667e-01, -2.54000000e-01,  1.04133333e+00,\n",
       "         6.01333333e-01],\n",
       "       [ 2.56666667e-01, -5.40000000e-02,  1.14133333e+00,\n",
       "         6.01333333e-01],\n",
       "       [ 5.56666667e-01, -2.54000000e-01,  1.84133333e+00,\n",
       "         9.01333333e-01],\n",
       "       [ 1.35666667e+00, -5.40000000e-02,  2.04133333e+00,\n",
       "         4.01333333e-01],\n",
       "       [ 1.55666667e+00, -2.54000000e-01,  2.34133333e+00,\n",
       "         7.01333333e-01],\n",
       "       [ 2.05666667e+00,  7.46000000e-01,  2.64133333e+00,\n",
       "         8.01333333e-01],\n",
       "       [ 5.56666667e-01, -2.54000000e-01,  1.84133333e+00,\n",
       "         1.00133333e+00],\n",
       "       [ 4.56666667e-01, -2.54000000e-01,  1.34133333e+00,\n",
       "         3.01333333e-01],\n",
       "       [ 2.56666667e-01, -4.54000000e-01,  1.84133333e+00,\n",
       "         2.01333333e-01],\n",
       "       [ 1.85666667e+00, -5.40000000e-02,  2.34133333e+00,\n",
       "         1.10133333e+00],\n",
       "       [ 4.56666667e-01,  3.46000000e-01,  1.84133333e+00,\n",
       "         1.20133333e+00],\n",
       "       [ 5.56666667e-01,  4.60000000e-02,  1.74133333e+00,\n",
       "         6.01333333e-01],\n",
       "       [ 1.56666667e-01, -5.40000000e-02,  1.04133333e+00,\n",
       "         6.01333333e-01],\n",
       "       [ 1.05666667e+00,  4.60000000e-02,  1.64133333e+00,\n",
       "         9.01333333e-01],\n",
       "       [ 8.56666667e-01,  4.60000000e-02,  1.84133333e+00,\n",
       "         1.20133333e+00],\n",
       "       [ 1.05666667e+00,  4.60000000e-02,  1.34133333e+00,\n",
       "         1.10133333e+00],\n",
       "       [-4.33333333e-02, -3.54000000e-01,  1.34133333e+00,\n",
       "         7.01333333e-01],\n",
       "       [ 9.56666667e-01,  1.46000000e-01,  2.14133333e+00,\n",
       "         1.10133333e+00],\n",
       "       [ 8.56666667e-01,  2.46000000e-01,  1.94133333e+00,\n",
       "         1.30133333e+00],\n",
       "       [ 8.56666667e-01, -5.40000000e-02,  1.44133333e+00,\n",
       "         1.10133333e+00],\n",
       "       [ 4.56666667e-01, -5.54000000e-01,  1.24133333e+00,\n",
       "         7.01333333e-01],\n",
       "       [ 6.56666667e-01, -5.40000000e-02,  1.44133333e+00,\n",
       "         8.01333333e-01],\n",
       "       [ 3.56666667e-01,  3.46000000e-01,  1.64133333e+00,\n",
       "         1.10133333e+00],\n",
       "       [ 5.66666667e-02, -5.40000000e-02,  1.34133333e+00,\n",
       "         6.01333333e-01]])"
      ]
     },
     "execution_count": 68,
     "metadata": {},
     "output_type": "execute_result"
    }
   ],
   "source": [
    "\n",
    "#1_零平均值化,行是样本,列是特征\n",
    "# 求平均值\n",
    "iris.mean(axis=0)\n",
    "\n",
    "# 求B向量,每个数据减去平均值\n",
    "B = iris - iris.mean(axis=0)\n",
    "B"
   ]
  },
  {
   "cell_type": "code",
   "execution_count": 69,
   "metadata": {},
   "outputs": [
    {
     "name": "stdout",
     "output_type": "stream",
     "text": [
      "(4, 4)\n"
     ]
    },
    {
     "data": {
      "text/plain": [
       "array([[ 0.68569351, -0.03926846,  1.27368233,  0.5169038 ],\n",
       "       [-0.03926846,  0.18800403, -0.32171275, -0.11798121],\n",
       "       [ 1.27368233, -0.32171275,  3.11317942,  1.29638747],\n",
       "       [ 0.5169038 , -0.11798121,  1.29638747,  0.58241432]])"
      ]
     },
     "execution_count": 69,
     "metadata": {},
     "output_type": "execute_result"
    }
   ],
   "source": [
    "# 2_求解协方差矩阵,行是样本\n",
    "C = np.cov(B,rowvar=False)\n",
    "print(C.shape)\n",
    "C"
   ]
  },
  {
   "cell_type": "code",
   "execution_count": 76,
   "metadata": {},
   "outputs": [
    {
     "data": {
      "text/plain": [
       "array([4.22484077, 0.24224357, 0.07852391, 0.02368303])"
      ]
     },
     "metadata": {},
     "output_type": "display_data"
    },
    {
     "data": {
      "text/plain": [
       "array([[ 0.36158968, -0.65653988, -0.58099728,  0.31725455],\n",
       "       [-0.08226889, -0.72971237,  0.59641809, -0.32409435],\n",
       "       [ 0.85657211,  0.1757674 ,  0.07252408, -0.47971899],\n",
       "       [ 0.35884393,  0.07470647,  0.54906091,  0.75112056]])"
      ]
     },
     "metadata": {},
     "output_type": "display_data"
    }
   ],
   "source": [
    "# 3_求特征值,特征向量(第一个特征值,第二个特征向量)\n",
    "# np.linalg.eigvals(C)\n",
    "T,T_ = np.linalg.eig(C)\n",
    "display(T,T_)"
   ]
  },
  {
   "cell_type": "markdown",
   "metadata": {},
   "source": [
    "# 4_保留主要成分\n",
    "4)保留主要成分[即保留值比较大的前n个特征]\n",
    "    -第三步得到的特征值向量eigVals,对其从小到大排序,np.argsort(eigVals)\n",
    "    -取出排在前面最大的n个特征向量(根据下表取),\n",
    "     它们组成了一个新的特征空间的一组基n_eigVect.\n",
    "    -将零均值化后的数据乘以n_eigVect就可以得到降维后的数据lowDDataMat\n",
    "    -重构数据:乘以n_eigVect的转置矩阵,再加上均值meanVal\n",
    "    (eigValIndice=np.argsort(eigVals)            #对特征值从小到大排序  \n",
    "     n_eigValIndice=eigValIndice[-1:-(n+1):-1]   #最大的n个特征值的下标  \n",
    "     n_eigVect=eigVects[:,n_eigValIndice]        #最大的n个特征值对应的特征向量  \n",
    "     lowDDataMat=newData*n_eigVect               #低维特征空间的数据  \n",
    "     reconMat=(lowDDataMat*n_eigVect.T)+meanVal  #重构数据  )\n",
    "*)如何选择主成分个数,降到几维数据,即n取多少合适,\n",
    "    一般通过方差百分比实现.(特征值从大到小排列,前n个求和/总和 >0.99)\n",
    "    (def percentage2n(eigVals,percentage):  \n",
    "    sortArray=np.sort(eigVals)   #升序  \n",
    "    sortArray=sortArray[-1::-1]  #逆转，即降序  \n",
    "    arraySum=sum(sortArray)  \n",
    "    tmpSum=0  \n",
    "    num=0  \n",
    "    for i in sortArray:  \n",
    "        tmpSum+=i  \n",
    "        num+=1  \n",
    "        if tmpSum>=arraySum*percentage:  \n",
    "            return num )"
   ]
  },
  {
   "cell_type": "code",
   "execution_count": 77,
   "metadata": {},
   "outputs": [
    {
     "data": {
      "text/plain": [
       "array([4.22484077, 0.24224357, 0.07852391, 0.02368303])"
      ]
     },
     "execution_count": 77,
     "metadata": {},
     "output_type": "execute_result"
    }
   ],
   "source": [
    "T"
   ]
  },
  {
   "cell_type": "code",
   "execution_count": 88,
   "metadata": {},
   "outputs": [
    {
     "data": {
      "text/plain": [
       "array([4.22484077, 0.24224357, 0.07852391, 0.02368303])"
      ]
     },
     "metadata": {},
     "output_type": "display_data"
    },
    {
     "data": {
      "text/plain": [
       "array([0.02368303, 0.07852391, 0.24224357, 4.22484077])"
      ]
     },
     "metadata": {},
     "output_type": "display_data"
    },
    {
     "data": {
      "text/plain": [
       "array([4.22484077, 0.24224357, 0.07852391, 0.02368303])"
      ]
     },
     "metadata": {},
     "output_type": "display_data"
    }
   ],
   "source": [
    "t1 = np.sort(T)\n",
    "t2 = t1[-1::-1]\n",
    "display(T,t1,t2)"
   ]
  },
  {
   "cell_type": "code",
   "execution_count": null,
   "metadata": {},
   "outputs": [],
   "source": [
    "#    (def percentage2n(eigVals,percentage):  \n",
    "#     sortArray=np.sort(eigVals)   #升序  \n",
    "#     sortArray=sortArray[-1::-1]  #逆转，即降序  \n",
    "#     arraySum=sum(sortArray)  \n",
    "#     tmpSum=0  \n",
    "#     num=0  \n",
    "#     for i in sortArray:  \n",
    "#         tmpSum+=i  \n",
    "#         num+=1  \n",
    "#         if tmpSum>=arraySum*percentage:  \n",
    "#             return num )"
   ]
  },
  {
   "cell_type": "code",
   "execution_count": 94,
   "metadata": {
    "scrolled": true
   },
   "outputs": [],
   "source": [
    "# 求取n 即降多少维合适\n",
    "def percentage2n(eigVals,percentage):\n",
    "    sortArray = np.sort(eigVals) # 排序,从小到大排序\n",
    "    sortArray = sortArray[-1::-1] # 逆序,实现从大到小排序\n",
    "    arraySum = sum(sortArray) # 求取\n",
    "    tmpSum = 0\n",
    "    num = 0\n",
    "    for i in sortArray:\n",
    "        tmpSum += i\n",
    "        num += 1\n",
    "        if tmpSum >= arraySum*percentage:\n",
    "            return num"
   ]
  },
  {
   "cell_type": "code",
   "execution_count": 103,
   "metadata": {},
   "outputs": [
    {
     "data": {
      "text/plain": [
       "2"
      ]
     },
     "execution_count": 103,
     "metadata": {},
     "output_type": "execute_result"
    }
   ],
   "source": [
    "# eigVals = T\n",
    "# percentage = 0.99\n",
    "n = percentage2n(T,0.97)\n",
    "n\n",
    "# 取鸢尾花前两个特征已达到0.97"
   ]
  },
  {
   "cell_type": "code",
   "execution_count": 106,
   "metadata": {},
   "outputs": [
    {
     "data": {
      "text/plain": [
       "array([[ 0.36158968, -0.65653988, -0.58099728,  0.31725455],\n",
       "       [-0.08226889, -0.72971237,  0.59641809, -0.32409435],\n",
       "       [ 0.85657211,  0.1757674 ,  0.07252408, -0.47971899],\n",
       "       [ 0.35884393,  0.07470647,  0.54906091,  0.75112056]])"
      ]
     },
     "execution_count": 106,
     "metadata": {},
     "output_type": "execute_result"
    }
   ],
   "source": [
    "T_"
   ]
  },
  {
   "cell_type": "code",
   "execution_count": 104,
   "metadata": {},
   "outputs": [
    {
     "data": {
      "text/plain": [
       "array([[ 0.36158968, -0.65653988],\n",
       "       [-0.08226889, -0.72971237],\n",
       "       [ 0.85657211,  0.1757674 ],\n",
       "       [ 0.35884393,  0.07470647]])"
      ]
     },
     "execution_count": 104,
     "metadata": {},
     "output_type": "execute_result"
    }
   ],
   "source": [
    "T_[:,:2]"
   ]
  },
  {
   "cell_type": "code",
   "execution_count": 107,
   "metadata": {},
   "outputs": [
    {
     "data": {
      "text/plain": [
       "array([[ 0.67919741, -0.03258618,  1.27066452,  0.5321852 ],\n",
       "       [-0.03258618,  0.18113034, -0.31863564, -0.13363564],\n",
       "       [ 1.27066452, -0.31863564,  3.11934547,  1.28541527],\n",
       "       [ 0.5321852 , -0.13363564,  1.28541527,  0.58961806]])"
      ]
     },
     "execution_count": 107,
     "metadata": {},
     "output_type": "execute_result"
    }
   ],
   "source": [
    "#降成二维\n",
    "pca = PCA(2)\n",
    "pca.fit_transform(iris)\n",
    "pca.get_covariance()"
   ]
  },
  {
   "cell_type": "code",
   "execution_count": 108,
   "metadata": {},
   "outputs": [
    {
     "data": {
      "text/plain": [
       "array([4.22484077, 0.24224357])"
      ]
     },
     "execution_count": 108,
     "metadata": {},
     "output_type": "execute_result"
    }
   ],
   "source": [
    "pca.explained_variance_"
   ]
  },
  {
   "cell_type": "code",
   "execution_count": null,
   "metadata": {},
   "outputs": [],
   "source": []
  },
  {
   "cell_type": "code",
   "execution_count": null,
   "metadata": {},
   "outputs": [],
   "source": []
  },
  {
   "cell_type": "code",
   "execution_count": null,
   "metadata": {},
   "outputs": [],
   "source": []
  },
  {
   "cell_type": "code",
   "execution_count": null,
   "metadata": {},
   "outputs": [],
   "source": []
  },
  {
   "cell_type": "code",
   "execution_count": null,
   "metadata": {},
   "outputs": [],
   "source": []
  },
  {
   "cell_type": "code",
   "execution_count": null,
   "metadata": {},
   "outputs": [],
   "source": []
  },
  {
   "cell_type": "code",
   "execution_count": null,
   "metadata": {},
   "outputs": [],
   "source": []
  },
  {
   "cell_type": "code",
   "execution_count": null,
   "metadata": {},
   "outputs": [],
   "source": []
  },
  {
   "cell_type": "code",
   "execution_count": null,
   "metadata": {},
   "outputs": [],
   "source": []
  },
  {
   "cell_type": "code",
   "execution_count": null,
   "metadata": {},
   "outputs": [],
   "source": []
  },
  {
   "cell_type": "code",
   "execution_count": null,
   "metadata": {},
   "outputs": [],
   "source": []
  },
  {
   "cell_type": "code",
   "execution_count": null,
   "metadata": {},
   "outputs": [],
   "source": []
  },
  {
   "cell_type": "code",
   "execution_count": null,
   "metadata": {},
   "outputs": [],
   "source": []
  },
  {
   "cell_type": "code",
   "execution_count": null,
   "metadata": {},
   "outputs": [],
   "source": []
  },
  {
   "cell_type": "code",
   "execution_count": null,
   "metadata": {},
   "outputs": [],
   "source": []
  },
  {
   "cell_type": "code",
   "execution_count": null,
   "metadata": {},
   "outputs": [],
   "source": []
  },
  {
   "cell_type": "code",
   "execution_count": null,
   "metadata": {},
   "outputs": [],
   "source": []
  },
  {
   "cell_type": "code",
   "execution_count": null,
   "metadata": {},
   "outputs": [],
   "source": []
  },
  {
   "cell_type": "code",
   "execution_count": null,
   "metadata": {},
   "outputs": [],
   "source": []
  },
  {
   "cell_type": "code",
   "execution_count": null,
   "metadata": {},
   "outputs": [],
   "source": []
  },
  {
   "cell_type": "code",
   "execution_count": null,
   "metadata": {},
   "outputs": [],
   "source": []
  },
  {
   "cell_type": "code",
   "execution_count": null,
   "metadata": {},
   "outputs": [],
   "source": []
  },
  {
   "cell_type": "code",
   "execution_count": null,
   "metadata": {},
   "outputs": [],
   "source": []
  },
  {
   "cell_type": "code",
   "execution_count": null,
   "metadata": {},
   "outputs": [],
   "source": []
  },
  {
   "cell_type": "code",
   "execution_count": null,
   "metadata": {},
   "outputs": [],
   "source": []
  },
  {
   "cell_type": "code",
   "execution_count": null,
   "metadata": {},
   "outputs": [],
   "source": []
  },
  {
   "cell_type": "code",
   "execution_count": null,
   "metadata": {},
   "outputs": [],
   "source": []
  },
  {
   "cell_type": "code",
   "execution_count": null,
   "metadata": {},
   "outputs": [],
   "source": []
  },
  {
   "cell_type": "code",
   "execution_count": null,
   "metadata": {},
   "outputs": [],
   "source": []
  },
  {
   "cell_type": "code",
   "execution_count": null,
   "metadata": {},
   "outputs": [],
   "source": []
  },
  {
   "cell_type": "code",
   "execution_count": null,
   "metadata": {},
   "outputs": [],
   "source": []
  },
  {
   "cell_type": "code",
   "execution_count": null,
   "metadata": {},
   "outputs": [],
   "source": []
  },
  {
   "cell_type": "code",
   "execution_count": null,
   "metadata": {},
   "outputs": [],
   "source": []
  },
  {
   "cell_type": "code",
   "execution_count": null,
   "metadata": {},
   "outputs": [],
   "source": []
  },
  {
   "cell_type": "code",
   "execution_count": null,
   "metadata": {},
   "outputs": [],
   "source": []
  },
  {
   "cell_type": "code",
   "execution_count": null,
   "metadata": {},
   "outputs": [],
   "source": []
  },
  {
   "cell_type": "code",
   "execution_count": null,
   "metadata": {},
   "outputs": [],
   "source": []
  },
  {
   "cell_type": "code",
   "execution_count": null,
   "metadata": {},
   "outputs": [],
   "source": []
  },
  {
   "cell_type": "code",
   "execution_count": null,
   "metadata": {},
   "outputs": [],
   "source": []
  },
  {
   "cell_type": "code",
   "execution_count": null,
   "metadata": {},
   "outputs": [],
   "source": []
  },
  {
   "cell_type": "code",
   "execution_count": null,
   "metadata": {},
   "outputs": [],
   "source": []
  },
  {
   "cell_type": "code",
   "execution_count": null,
   "metadata": {},
   "outputs": [],
   "source": []
  },
  {
   "cell_type": "code",
   "execution_count": null,
   "metadata": {},
   "outputs": [],
   "source": []
  },
  {
   "cell_type": "code",
   "execution_count": null,
   "metadata": {},
   "outputs": [],
   "source": []
  },
  {
   "cell_type": "code",
   "execution_count": null,
   "metadata": {},
   "outputs": [],
   "source": []
  },
  {
   "cell_type": "code",
   "execution_count": null,
   "metadata": {},
   "outputs": [],
   "source": []
  },
  {
   "cell_type": "code",
   "execution_count": null,
   "metadata": {},
   "outputs": [],
   "source": []
  },
  {
   "cell_type": "code",
   "execution_count": null,
   "metadata": {},
   "outputs": [],
   "source": []
  }
 ],
 "metadata": {
  "kernelspec": {
   "display_name": "Python 3",
   "language": "python",
   "name": "python3"
  },
  "language_info": {
   "codemirror_mode": {
    "name": "ipython",
    "version": 3
   },
   "file_extension": ".py",
   "mimetype": "text/x-python",
   "name": "python",
   "nbconvert_exporter": "python",
   "pygments_lexer": "ipython3",
   "version": "3.6.5"
  },
  "toc": {
   "base_numbering": 1,
   "nav_menu": {},
   "number_sections": true,
   "sideBar": true,
   "skip_h1_title": false,
   "title_cell": "Table of Contents",
   "title_sidebar": "Contents",
   "toc_cell": false,
   "toc_position": {},
   "toc_section_display": true,
   "toc_window_display": false
  }
 },
 "nbformat": 4,
 "nbformat_minor": 2
}
