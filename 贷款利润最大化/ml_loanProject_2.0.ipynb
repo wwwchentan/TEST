{
 "cells": [
  {
   "cell_type": "markdown",
   "metadata": {
    "toc": true
   },
   "source": [
    "<h1>Table of Contents<span class=\"tocSkip\"></span></h1>\n",
    "<div class=\"toc\"><ul class=\"toc-item\"><li><span><a href=\"#本项目需解决的问题\" data-toc-modified-id=\"本项目需解决的问题-1\"><span class=\"toc-item-num\">1&nbsp;&nbsp;</span>本项目需解决的问题</a></span></li><li><span><a href=\"#场景解析-(算法选择)\" data-toc-modified-id=\"场景解析-(算法选择)-2\"><span class=\"toc-item-num\">2&nbsp;&nbsp;</span>场景解析 (算法选择)</a></span></li><li><span><a href=\"#分析步骤:\" data-toc-modified-id=\"分析步骤:-3\"><span class=\"toc-item-num\">3&nbsp;&nbsp;</span>分析步骤:</a></span></li><li><span><a href=\"#数据预处理\" data-toc-modified-id=\"数据预处理-4\"><span class=\"toc-item-num\">4&nbsp;&nbsp;</span>数据预处理</a></span></li><li><span><a href=\"#特征抽象\" data-toc-modified-id=\"特征抽象-5\"><span class=\"toc-item-num\">5&nbsp;&nbsp;</span>特征抽象</a></span></li><li><span><a href=\"#其他数据类型转数值化处理\" data-toc-modified-id=\"其他数据类型转数值化处理-6\"><span class=\"toc-item-num\">6&nbsp;&nbsp;</span>其他数据类型转数值化处理</a></span></li><li><span><a href=\"#设计模型(逻辑斯梯)`\" data-toc-modified-id=\"设计模型(逻辑斯梯)`-7\"><span class=\"toc-item-num\">7&nbsp;&nbsp;</span>设计模型(逻辑斯梯)`</a></span></li><li><span><a href=\"#优化模型TPR,FPR----K折交叉验证,权重系数\" data-toc-modified-id=\"优化模型TPR,FPR----K折交叉验证,权重系数-8\"><span class=\"toc-item-num\">8&nbsp;&nbsp;</span>优化模型TPR,FPR -- K折交叉验证,权重系数</a></span></li><li><span><a href=\"#计算AUC,ROC-可视化显示\" data-toc-modified-id=\"计算AUC,ROC-可视化显示-9\"><span class=\"toc-item-num\">9&nbsp;&nbsp;</span>计算AUC,ROC 可视化显示</a></span></li></ul></div>"
   ]
  },
  {
   "cell_type": "markdown",
   "metadata": {},
   "source": [
    "# 本项目需解决的问题\n",
    "    本项目通过利用P2P平台Lending Club的贷款数据，进行机器学习，构建贷款违约预测模型，对新增贷款申请人进行预测是否会违约，从而决定是否放款。# 数据 https://www.lendingclub.com/info/download-data.action"
   ]
  },
  {
   "cell_type": "markdown",
   "metadata": {},
   "source": [
    "# 场景解析 (算法选择)\n",
    "    贷款申请人向Lending Club平台申请贷款时，Lending Club平台通过线上或线下让客户填写贷款申请表，收集客户的基本信息，这里包括申请人的年龄、性别、婚姻状况、学历、贷款金额、申请人财产情况等信息，通常来说还会借助第三方平台如征信机构或FICO等机构的信息。通过这些信息属性来做线性回归 ，生成预测模型，Lending Club平台可以通过预测判断贷款申请是否会违约，从而决定是否向申请人发放贷款。\n",
    "\n",
    "1）首先，我们的场景是通过用户的历史行为（如历史数据的多维特征和贷款状态是否违约）来训练模型，通过这个模型对新增的贷款人“是否具有偿还能力，是否具有偿债意愿”进行分析，预测贷款申请人是否会发生违约贷款。这是一个监督学习的场景，因为已知了特征以及贷款状态是否违约（目标列），我们判定贷款申请人是否违约是一个二元分类问题，可以通过一个分类算法来处理，这里选用逻辑斯蒂回归（Logistic Regression）。\n",
    "\n",
    "2）观察数据集发现部分数据是半结构化数据，需要进行特征抽象。\n",
    "\n",
    "    现对该业务场景进行总结如下：\n",
    "  \n",
    "    根据历史记录数据学习并对贷款是否违约进行预测，监督学习场景，选择逻辑斯蒂回归（Logistic Regression）算法。\n"
   ]
  },
  {
   "cell_type": "markdown",
   "metadata": {},
   "source": [
    "# 分析步骤:\n",
    "数据预处理\n",
    "数据的清洗  \n",
    "特征的筛选  \n",
    "特征值的标准化,数值化   \n",
    "模型训练  \n",
    "逻辑回归  \n",
    "随机森林  \n",
    "计算tpr fpr  \n",
    "\n"
   ]
  },
  {
   "cell_type": "markdown",
   "metadata": {},
   "source": [
    "#  数据预处理\n",
    "去除空值较多的值,去除重复,无关值"
   ]
  },
  {
   "cell_type": "code",
   "execution_count": 1,
   "metadata": {},
   "outputs": [],
   "source": [
    "import warnings\n",
    "warnings.filterwarnings(\"ignore\")"
   ]
  },
  {
   "cell_type": "code",
   "execution_count": 2,
   "metadata": {},
   "outputs": [],
   "source": [
    "import pandas as pd\n",
    "loans_2007 = pd.read_csv('LoanStats3a.csv',skiprows=1)"
   ]
  },
  {
   "cell_type": "code",
   "execution_count": 3,
   "metadata": {},
   "outputs": [
    {
     "name": "stdout",
     "output_type": "stream",
     "text": [
      "<class 'pandas.core.frame.DataFrame'>\n",
      "RangeIndex: 42538 entries, 0 to 42537\n",
      "Columns: 111 entries, id to total_il_high_credit_limit\n",
      "dtypes: float64(86), object(25)\n",
      "memory usage: 36.0+ MB\n"
     ]
    }
   ],
   "source": [
    "loans_2007.info()"
   ]
  },
  {
   "cell_type": "markdown",
   "metadata": {},
   "source": [
    "从上述的信息中可以看出：\n",
    "\n",
    "1.42538行数据，52个特征变量\n",
    "\n",
    "2.52个特征变量中有30个是浮点数类型，22个是Object对象。\n",
    "\n",
    "info()函数获取到的信息还是太少，接下来可以通过下面的方法，得到数值型数据和Object基类的数据分布。"
   ]
  },
  {
   "cell_type": "code",
   "execution_count": 4,
   "metadata": {
    "scrolled": true
   },
   "outputs": [
    {
     "data": {
      "text/html": [
       "<div>\n",
       "<style scoped>\n",
       "    .dataframe tbody tr th:only-of-type {\n",
       "        vertical-align: middle;\n",
       "    }\n",
       "\n",
       "    .dataframe tbody tr th {\n",
       "        vertical-align: top;\n",
       "    }\n",
       "\n",
       "    .dataframe thead th {\n",
       "        text-align: right;\n",
       "    }\n",
       "</style>\n",
       "<table border=\"1\" class=\"dataframe\">\n",
       "  <thead>\n",
       "    <tr style=\"text-align: right;\">\n",
       "      <th></th>\n",
       "      <th>count</th>\n",
       "      <th>unique</th>\n",
       "      <th>top</th>\n",
       "      <th>freq</th>\n",
       "      <th>missing_pct</th>\n",
       "    </tr>\n",
       "  </thead>\n",
       "  <tbody>\n",
       "    <tr>\n",
       "      <th>id</th>\n",
       "      <td>42538</td>\n",
       "      <td>42538</td>\n",
       "      <td>387039</td>\n",
       "      <td>1</td>\n",
       "      <td>0.000000</td>\n",
       "    </tr>\n",
       "    <tr>\n",
       "      <th>term</th>\n",
       "      <td>42535</td>\n",
       "      <td>2</td>\n",
       "      <td>36 months</td>\n",
       "      <td>31534</td>\n",
       "      <td>0.000071</td>\n",
       "    </tr>\n",
       "    <tr>\n",
       "      <th>int_rate</th>\n",
       "      <td>42535</td>\n",
       "      <td>394</td>\n",
       "      <td>10.99%</td>\n",
       "      <td>970</td>\n",
       "      <td>0.000071</td>\n",
       "    </tr>\n",
       "    <tr>\n",
       "      <th>grade</th>\n",
       "      <td>42535</td>\n",
       "      <td>7</td>\n",
       "      <td>B</td>\n",
       "      <td>12389</td>\n",
       "      <td>0.000071</td>\n",
       "    </tr>\n",
       "    <tr>\n",
       "      <th>sub_grade</th>\n",
       "      <td>42535</td>\n",
       "      <td>35</td>\n",
       "      <td>B3</td>\n",
       "      <td>2997</td>\n",
       "      <td>0.000071</td>\n",
       "    </tr>\n",
       "    <tr>\n",
       "      <th>emp_title</th>\n",
       "      <td>39909</td>\n",
       "      <td>30658</td>\n",
       "      <td>US Army</td>\n",
       "      <td>139</td>\n",
       "      <td>0.061804</td>\n",
       "    </tr>\n",
       "    <tr>\n",
       "      <th>emp_length</th>\n",
       "      <td>41423</td>\n",
       "      <td>11</td>\n",
       "      <td>10+ years</td>\n",
       "      <td>9369</td>\n",
       "      <td>0.026212</td>\n",
       "    </tr>\n",
       "    <tr>\n",
       "      <th>home_ownership</th>\n",
       "      <td>42535</td>\n",
       "      <td>5</td>\n",
       "      <td>RENT</td>\n",
       "      <td>20181</td>\n",
       "      <td>0.000071</td>\n",
       "    </tr>\n",
       "    <tr>\n",
       "      <th>verification_status</th>\n",
       "      <td>42535</td>\n",
       "      <td>3</td>\n",
       "      <td>Not Verified</td>\n",
       "      <td>18758</td>\n",
       "      <td>0.000071</td>\n",
       "    </tr>\n",
       "    <tr>\n",
       "      <th>issue_d</th>\n",
       "      <td>42535</td>\n",
       "      <td>55</td>\n",
       "      <td>Dec-2011</td>\n",
       "      <td>2267</td>\n",
       "      <td>0.000071</td>\n",
       "    </tr>\n",
       "    <tr>\n",
       "      <th>loan_status</th>\n",
       "      <td>42535</td>\n",
       "      <td>9</td>\n",
       "      <td>Fully Paid</td>\n",
       "      <td>33902</td>\n",
       "      <td>0.000071</td>\n",
       "    </tr>\n",
       "    <tr>\n",
       "      <th>pymnt_plan</th>\n",
       "      <td>42535</td>\n",
       "      <td>2</td>\n",
       "      <td>n</td>\n",
       "      <td>42534</td>\n",
       "      <td>0.000071</td>\n",
       "    </tr>\n",
       "    <tr>\n",
       "      <th>url</th>\n",
       "      <td>42535</td>\n",
       "      <td>42535</td>\n",
       "      <td>https://lendingclub.com/browse/loanDetail.acti...</td>\n",
       "      <td>1</td>\n",
       "      <td>0.000071</td>\n",
       "    </tr>\n",
       "    <tr>\n",
       "      <th>desc</th>\n",
       "      <td>29242</td>\n",
       "      <td>28963</td>\n",
       "      <td></td>\n",
       "      <td>225</td>\n",
       "      <td>0.312568</td>\n",
       "    </tr>\n",
       "    <tr>\n",
       "      <th>purpose</th>\n",
       "      <td>42535</td>\n",
       "      <td>14</td>\n",
       "      <td>debt_consolidation</td>\n",
       "      <td>19776</td>\n",
       "      <td>0.000071</td>\n",
       "    </tr>\n",
       "    <tr>\n",
       "      <th>title</th>\n",
       "      <td>42522</td>\n",
       "      <td>21264</td>\n",
       "      <td>Debt Consolidation</td>\n",
       "      <td>2259</td>\n",
       "      <td>0.000376</td>\n",
       "    </tr>\n",
       "    <tr>\n",
       "      <th>zip_code</th>\n",
       "      <td>42535</td>\n",
       "      <td>837</td>\n",
       "      <td>100xx</td>\n",
       "      <td>649</td>\n",
       "      <td>0.000071</td>\n",
       "    </tr>\n",
       "    <tr>\n",
       "      <th>addr_state</th>\n",
       "      <td>42535</td>\n",
       "      <td>50</td>\n",
       "      <td>CA</td>\n",
       "      <td>7429</td>\n",
       "      <td>0.000071</td>\n",
       "    </tr>\n",
       "    <tr>\n",
       "      <th>earliest_cr_line</th>\n",
       "      <td>42506</td>\n",
       "      <td>530</td>\n",
       "      <td>Oct-1999</td>\n",
       "      <td>393</td>\n",
       "      <td>0.000752</td>\n",
       "    </tr>\n",
       "    <tr>\n",
       "      <th>revol_util</th>\n",
       "      <td>42445</td>\n",
       "      <td>1119</td>\n",
       "      <td>0%</td>\n",
       "      <td>1070</td>\n",
       "      <td>0.002186</td>\n",
       "    </tr>\n",
       "    <tr>\n",
       "      <th>initial_list_status</th>\n",
       "      <td>42535</td>\n",
       "      <td>1</td>\n",
       "      <td>f</td>\n",
       "      <td>42535</td>\n",
       "      <td>0.000071</td>\n",
       "    </tr>\n",
       "    <tr>\n",
       "      <th>last_pymnt_d</th>\n",
       "      <td>42452</td>\n",
       "      <td>108</td>\n",
       "      <td>Mar-2013</td>\n",
       "      <td>1070</td>\n",
       "      <td>0.002022</td>\n",
       "    </tr>\n",
       "    <tr>\n",
       "      <th>next_pymnt_d</th>\n",
       "      <td>2975</td>\n",
       "      <td>100</td>\n",
       "      <td>Dec-2016</td>\n",
       "      <td>226</td>\n",
       "      <td>0.930063</td>\n",
       "    </tr>\n",
       "    <tr>\n",
       "      <th>last_credit_pull_d</th>\n",
       "      <td>42531</td>\n",
       "      <td>113</td>\n",
       "      <td>Nov-2016</td>\n",
       "      <td>11667</td>\n",
       "      <td>0.000165</td>\n",
       "    </tr>\n",
       "    <tr>\n",
       "      <th>application_type</th>\n",
       "      <td>42535</td>\n",
       "      <td>1</td>\n",
       "      <td>INDIVIDUAL</td>\n",
       "      <td>42535</td>\n",
       "      <td>0.000071</td>\n",
       "    </tr>\n",
       "  </tbody>\n",
       "</table>\n",
       "</div>"
      ],
      "text/plain": [
       "                     count unique  \\\n",
       "id                   42538  42538   \n",
       "term                 42535      2   \n",
       "int_rate             42535    394   \n",
       "grade                42535      7   \n",
       "sub_grade            42535     35   \n",
       "emp_title            39909  30658   \n",
       "emp_length           41423     11   \n",
       "home_ownership       42535      5   \n",
       "verification_status  42535      3   \n",
       "issue_d              42535     55   \n",
       "loan_status          42535      9   \n",
       "pymnt_plan           42535      2   \n",
       "url                  42535  42535   \n",
       "desc                 29242  28963   \n",
       "purpose              42535     14   \n",
       "title                42522  21264   \n",
       "zip_code             42535    837   \n",
       "addr_state           42535     50   \n",
       "earliest_cr_line     42506    530   \n",
       "revol_util           42445   1119   \n",
       "initial_list_status  42535      1   \n",
       "last_pymnt_d         42452    108   \n",
       "next_pymnt_d          2975    100   \n",
       "last_credit_pull_d   42531    113   \n",
       "application_type     42535      1   \n",
       "\n",
       "                                                                   top   freq  \\\n",
       "id                                                              387039      1   \n",
       "term                                                         36 months  31534   \n",
       "int_rate                                                        10.99%    970   \n",
       "grade                                                                B  12389   \n",
       "sub_grade                                                           B3   2997   \n",
       "emp_title                                                      US Army    139   \n",
       "emp_length                                                   10+ years   9369   \n",
       "home_ownership                                                    RENT  20181   \n",
       "verification_status                                       Not Verified  18758   \n",
       "issue_d                                                       Dec-2011   2267   \n",
       "loan_status                                                 Fully Paid  33902   \n",
       "pymnt_plan                                                           n  42534   \n",
       "url                  https://lendingclub.com/browse/loanDetail.acti...      1   \n",
       "desc                                                                      225   \n",
       "purpose                                             debt_consolidation  19776   \n",
       "title                                               Debt Consolidation   2259   \n",
       "zip_code                                                         100xx    649   \n",
       "addr_state                                                          CA   7429   \n",
       "earliest_cr_line                                              Oct-1999    393   \n",
       "revol_util                                                          0%   1070   \n",
       "initial_list_status                                                  f  42535   \n",
       "last_pymnt_d                                                  Mar-2013   1070   \n",
       "next_pymnt_d                                                  Dec-2016    226   \n",
       "last_credit_pull_d                                            Nov-2016  11667   \n",
       "application_type                                            INDIVIDUAL  42535   \n",
       "\n",
       "                     missing_pct  \n",
       "id                      0.000000  \n",
       "term                    0.000071  \n",
       "int_rate                0.000071  \n",
       "grade                   0.000071  \n",
       "sub_grade               0.000071  \n",
       "emp_title               0.061804  \n",
       "emp_length              0.026212  \n",
       "home_ownership          0.000071  \n",
       "verification_status     0.000071  \n",
       "issue_d                 0.000071  \n",
       "loan_status             0.000071  \n",
       "pymnt_plan              0.000071  \n",
       "url                     0.000071  \n",
       "desc                    0.312568  \n",
       "purpose                 0.000071  \n",
       "title                   0.000376  \n",
       "zip_code                0.000071  \n",
       "addr_state              0.000071  \n",
       "earliest_cr_line        0.000752  \n",
       "revol_util              0.002186  \n",
       "initial_list_status     0.000071  \n",
       "last_pymnt_d            0.002022  \n",
       "next_pymnt_d            0.930063  \n",
       "last_credit_pull_d      0.000165  \n",
       "application_type        0.000071  "
      ]
     },
     "execution_count": 4,
     "metadata": {},
     "output_type": "execute_result"
    }
   ],
   "source": [
    "loans_2007.select_dtypes(include=['O']).describe().T\\\n",
    "    .assign(missing_pct=loans_2007.apply(lambda x : (len(x)-x.count())/len(x)))"
   ]
  },
  {
   "cell_type": "markdown",
   "metadata": {},
   "source": [
    "筛选出object对象的对应信息，可分别得到非空值数量、unique数量，最大频数变量，最大频数，以及新添加一列特征变量missing_pct，表示值缺失的比重。"
   ]
  },
  {
   "cell_type": "markdown",
   "metadata": {},
   "source": [
    "从图表中可以得到部分信息：\n",
    "\n",
    "1.贷款共7个等级，占比最多的是B级\n",
    "\n",
    "2.还款的形式有两种，占比最多的是36个月\n",
    "\n",
    "3.贷款人中大多数人工龄10+年\n",
    "\n",
    "4.贷款人的房屋状况大多是抵押贷款\n",
    "\n",
    "5.大多数人贷款的目的是债务整合\n",
    "\n",
    "6.id与desc特征的数据缺失率高达0.99，间接表明这两个特征可以删除掉。\n",
    "\n",
    "同样可以按照这种方式对浮点型的数据进行数据预览，得到均值、标准差、四分位数以及数据的缺失比重等信息。"
   ]
  },
  {
   "cell_type": "markdown",
   "metadata": {},
   "source": [
    "空值、异常值处理\n",
    "\n",
    "得到上述的信息后，我们可以根据缺失比重进行数据的清洗。在这里按照50%的阈值删除数据。\n",
    "\n",
    "原始数据集存在异常值情况，如特征变量emp_length（工龄）数据中包含‘n/a’的数据，产生原因为公式应用的错误无法找到原值，而且占比较小，清除数据。\n",
    "\n",
    "除去异常值，还包括对空值的处理，对于较为重要的特征来说，如果缺失值占比较小，可以通过填补均值进行处理。"
   ]
  },
  {
   "cell_type": "code",
   "execution_count": 5,
   "metadata": {},
   "outputs": [],
   "source": [
    "# 按阈值去除空值,一些描述'desc','url' 无用得值\n",
    "\n",
    "half_count = len(loans_2007)/2\n",
    "loans_2007 = loans_2007.dropna(thresh = half_count,axis = 1)\n",
    "loans_2007 = loans_2007.drop(['desc','url'],axis = 1)\n",
    "loans_2007.to_csv('loans_2007.csv',index=False)\n"
   ]
  },
  {
   "cell_type": "code",
   "execution_count": 6,
   "metadata": {
    "scrolled": true
   },
   "outputs": [
    {
     "name": "stdout",
     "output_type": "stream",
     "text": [
      "id                                1077501\n",
      "member_id                      1.2966e+06\n",
      "loan_amnt                            5000\n",
      "funded_amnt                          5000\n",
      "funded_amnt_inv                      4975\n",
      "term                            36 months\n",
      "int_rate                           10.65%\n",
      "installment                        162.87\n",
      "grade                                   B\n",
      "sub_grade                              B2\n",
      "emp_title                             NaN\n",
      "emp_length                      10+ years\n",
      "home_ownership                       RENT\n",
      "annual_inc                          24000\n",
      "verification_status              Verified\n",
      "issue_d                          Dec-2011\n",
      "loan_status                    Fully Paid\n",
      "pymnt_plan                              n\n",
      "purpose                       credit_card\n",
      "title                            Computer\n",
      "zip_code                            860xx\n",
      "addr_state                             AZ\n",
      "dti                                 27.65\n",
      "delinq_2yrs                             0\n",
      "earliest_cr_line                 Jan-1985\n",
      "inq_last_6mths                          1\n",
      "open_acc                                3\n",
      "pub_rec                                 0\n",
      "revol_bal                           13648\n",
      "revol_util                          83.7%\n",
      "total_acc                               9\n",
      "initial_list_status                     f\n",
      "out_prncp                               0\n",
      "out_prncp_inv                           0\n",
      "total_pymnt                       5863.16\n",
      "total_pymnt_inv                   5833.84\n",
      "total_rec_prncp                      5000\n",
      "total_rec_int                      863.16\n",
      "total_rec_late_fee                      0\n",
      "recoveries                              0\n",
      "collection_recovery_fee                 0\n",
      "last_pymnt_d                     Jan-2015\n",
      "last_pymnt_amnt                    171.62\n",
      "last_credit_pull_d               Nov-2016\n",
      "collections_12_mths_ex_med              0\n",
      "policy_code                             1\n",
      "application_type               INDIVIDUAL\n",
      "acc_now_delinq                          0\n",
      "chargeoff_within_12_mths                0\n",
      "delinq_amnt                             0\n",
      "pub_rec_bankruptcies                    0\n",
      "tax_liens                               0\n",
      "Name: 0, dtype: object\n",
      "52\n"
     ]
    }
   ],
   "source": [
    "# 去除重复值,并iloc查看第一行有哪些特征,和总样本数\n",
    "import pandas as pd\n",
    "loans_2007 = pd.read_csv(\"loans_2007.csv\")\n",
    "loans_2007.drop_duplicates()\n",
    "print(loans_2007.iloc[0])\n",
    "print(loans_2007.shape[1])"
   ]
  },
  {
   "cell_type": "code",
   "execution_count": 6,
   "metadata": {},
   "outputs": [],
   "source": [
    "# 具体特征含义\n",
    "# id                                1077501  # 贷款清单的唯一LC分配ID\n",
    "# member_id                      1.2966e+06  # 为借款人成员分配的唯一LC。\n",
    "# loan_amnt                            5000  # 申请贷款数\n",
    "# funded_amnt                          5000  # 在该时间点承诺给该贷款的总金额。\n",
    "# funded_amnt_inv                      4975  # 投资者在该时间点为该贷款承诺的总金额。\n",
    "# term                            36 months  # 偿还贷款的日期\n",
    "# int_rate                           10.65%  # 贷款利率\n",
    "# installment                        162.87  # 如果贷款来自借款人的每月付款\n",
    "# grade                                   B  # 信用证转让贷款等级\n",
    "# sub_grade                              B2  # 信用证指导贷款基准\n",
    "# emp_title                             NaN  # 受雇佣公司\n",
    "# emp_length                      10+ years  # 雇佣时间\n",
    "# home_ownership                       RENT  # 贷款者居住房屋的所有权(租房,买房,按揭,其他)\n",
    "# annual_inc                          24000  # 年收入\n",
    "# verification_status              Verified  # 收入由信用证核实\n",
    "# issue_d                          Dec-2011  # 贷款日期\n",
    "# loan_status                    Fully Paid  # 贷款的状态(贷款状态）来描述当前贷款处于什么状态，其中包括Current、Fully Paid、Charged Off（注销）、Default、In Grace Period（在宽限期）、Late (16-30 days)（延期16-30天） 、Late (31-120 days)（延期31-120天）这几种状态)\n",
    "# pymnt_plan                              n  # 指示是否已为贷款制定付款计划\n",
    "# purpose                       credit_card  # 借款人为贷款请求提供的类别,即贷款目的。\n",
    "# title                            Computer  # 借款人提供的贷款用途\n",
    "# zip_code                            860xx  #借款人在贷款申请中提供的前三个邮政编码号码。\n",
    "# addr_state                             AZ  # 借款人在贷款申请中提供的地址\n",
    "# dti                                 27.65  # 以借款人每月债务总额计算的债务总额(不包括抵押贷款和要求的信用证贷款)除以借款人自报每月收入的比率。\n",
    "# delinq_2yrs                             0  # 借款人过去2年的信用记录中超过30天的逾期未付事故率\n",
    "# earliest_cr_line                 Jan-1985  # 借款人最早报告的信用额度开放日期\n",
    "# inq_last_6mths                          1  # 过去6个月的查询次数(不包括汽车及按揭查询)\n",
    "# open_acc                                3  # 过去得交易数目\n",
    "# pub_rec                                 0  # 不良公共记录的数量\n",
    "# revol_bal                           13648  # 信贷循环余额总额\n",
    "# revol_util                          83.7%  # 循环线使用率，或借款人使用的信贷金额相对于所有可用的循环信贷。\n",
    "# total_acc                               9  # 借款人信用档案中当前的信用额度总数\n",
    "# initial_list_status                     f  # 贷款的初始上市状态。 可能的值为 - W，F\n",
    "# out_prncp                               0  # 总资金中剩余的未偿还本金\n",
    "# out_prncp_inv                           0  # 由投资者资助的总金额的剩余未偿还本金\n",
    "# total_pymnt                       5863.16  # 到目前为止收到的付款总额\n",
    "# total_pymnt_inv                   5833.84  # 迄今为止收到的由投资者资助的部分总金额\n",
    "# total_rec_prncp                      5000  # 迄今收到的本金\n",
    "# total_rec_int                      863.16  # 迄今收到的利息\n",
    "# total_rec_late_fee                      0  # 到目前为止收到的滞纳金\n",
    "# recoveries                              0  # 回收率\n",
    "# collection_recovery_fee                 0  # 收取得手续费\n",
    "# last_pymnt_d                     Jan-2015  # 上个月收到付款\n",
    "# last_pymnt_amnt                    171.62  # 上次收到的总付款金额\n",
    "# last_credit_pull_d               Nov-2016  # 最近一个月，LC为这笔贷款提供了信贷\n",
    "# collections_12_mths_ex_med              0  # 除医疗收集外12个月的馆藏数量\n",
    "# policy_code                             1  # 公开的policy_code = 1个新产品不公开policy_code = 2\n",
    "# application_type               INDIVIDUAL  # 申请类型\n",
    "# acc_now_delinq                          0  # 借款人现在欠款的账户数量。\n",
    "# chargeoff_within_12_mths                0  # 12个月内的冲销金额\n",
    "# delinq_amnt                             0  # 借方逾期未还的欠款。\n",
    "# pub_rec_bankruptcies                    0  # 公开破产个案数目\n",
    "# tax_liens                               0  # 税务留置权数量\n",
    "# Name: 0, dtype: object\n",
    "# 52\n",
    "# 数据\n",
    "# https://www.lendingclub.com/info/download-data.action\n",
    "# 数据字段含义\n",
    "# https://www.kesci.com/home/dataset/58a7fab4fbe7a30f28357645"
   ]
  },
  {
   "cell_type": "code",
   "execution_count": 7,
   "metadata": {},
   "outputs": [],
   "source": [
    "#贷款等级Object类型转为数值类型\n",
    "grade = loans_2007['grade'].replace('A',1)\n",
    "grade = grade.replace('B',2)\n",
    "grade = grade.replace('C',3)\n",
    "grade = grade.replace('D',4)\n",
    "grade = grade.replace('E',5)\n",
    "grade = grade.replace('F',6)\n",
    "grade = grade.replace('G',7)\n",
    "# 数值映射,规范化数据为数值型 \n",
    "grade_dict = {\n",
    "    \"grade\": {\n",
    "        \"G\": 7,\n",
    "        \"F\": 6,\n",
    "        \"E\": 5,\n",
    "        \"D\": 4,\n",
    "        \"C\": 3,\n",
    "        \"B\": 2,\n",
    "        \"A\": 1,\n",
    "        \"A\": 0,\n",
    "    }\n",
    "}\n",
    "loans_2007 = loans_2007.replace(grade_dict)\n"
   ]
  },
  {
   "cell_type": "code",
   "execution_count": 8,
   "metadata": {
    "scrolled": true
   },
   "outputs": [
    {
     "data": {
      "text/plain": [
       "0        2.0\n",
       "1        3.0\n",
       "2        3.0\n",
       "3        3.0\n",
       "4        2.0\n",
       "5        0.0\n",
       "6        3.0\n",
       "7        5.0\n",
       "8        6.0\n",
       "9        2.0\n",
       "10       3.0\n",
       "11       2.0\n",
       "12       3.0\n",
       "13       2.0\n",
       "14       2.0\n",
       "15       4.0\n",
       "16       3.0\n",
       "17       0.0\n",
       "18       2.0\n",
       "19       0.0\n",
       "20       3.0\n",
       "21       2.0\n",
       "22       2.0\n",
       "23       2.0\n",
       "24       2.0\n",
       "25       2.0\n",
       "26       3.0\n",
       "27       4.0\n",
       "28       2.0\n",
       "29       2.0\n",
       "        ... \n",
       "42508    4.0\n",
       "42509    4.0\n",
       "42510    2.0\n",
       "42511    5.0\n",
       "42512    0.0\n",
       "42513    3.0\n",
       "42514    2.0\n",
       "42515    2.0\n",
       "42516    3.0\n",
       "42517    3.0\n",
       "42518    5.0\n",
       "42519    0.0\n",
       "42520    0.0\n",
       "42521    0.0\n",
       "42522    0.0\n",
       "42523    0.0\n",
       "42524    3.0\n",
       "42525    4.0\n",
       "42526    3.0\n",
       "42527    2.0\n",
       "42528    2.0\n",
       "42529    2.0\n",
       "42530    2.0\n",
       "42531    3.0\n",
       "42532    2.0\n",
       "42533    2.0\n",
       "42534    0.0\n",
       "42535    0.0\n",
       "42536    NaN\n",
       "42537    NaN\n",
       "Name: grade, Length: 42538, dtype: float64"
      ]
     },
     "execution_count": 8,
     "metadata": {},
     "output_type": "execute_result"
    }
   ],
   "source": [
    "loans_2007['grade']"
   ]
  },
  {
   "cell_type": "code",
   "execution_count": 9,
   "metadata": {},
   "outputs": [],
   "source": [
    "# 去除与模型预测无关的特征(去除唯一属性： 如id属性，自增列，含唯一值的列，这些属性并不能描述本身的分布规律。)\n",
    "loans_2007 = loans_2007.drop([\"id\", \"member_id\", \"funded_amnt\", \"funded_amnt_inv\", \"grade\", \"sub_grade\", \"emp_title\", \"issue_d\"], axis=1)\n"
   ]
  },
  {
   "cell_type": "code",
   "execution_count": 10,
   "metadata": {},
   "outputs": [],
   "source": [
    "# 再次去除与模型无关的特征(预测之后发生的事情去掉)\n",
    "loans_2007 = loans_2007.drop([\"zip_code\", \"out_prncp\", \"out_prncp_inv\", \"total_pymnt\", \"total_pymnt_inv\", \"total_rec_prncp\"], axis=1)"
   ]
  },
  {
   "cell_type": "code",
   "execution_count": 11,
   "metadata": {
    "scrolled": true
   },
   "outputs": [
    {
     "name": "stdout",
     "output_type": "stream",
     "text": [
      "loan_amnt                            5000\n",
      "term                            36 months\n",
      "int_rate                           10.65%\n",
      "installment                        162.87\n",
      "emp_length                      10+ years\n",
      "home_ownership                       RENT\n",
      "annual_inc                          24000\n",
      "verification_status              Verified\n",
      "loan_status                    Fully Paid\n",
      "pymnt_plan                              n\n",
      "purpose                       credit_card\n",
      "title                            Computer\n",
      "addr_state                             AZ\n",
      "dti                                 27.65\n",
      "delinq_2yrs                             0\n",
      "earliest_cr_line                 Jan-1985\n",
      "inq_last_6mths                          1\n",
      "open_acc                                3\n",
      "pub_rec                                 0\n",
      "revol_bal                           13648\n",
      "revol_util                          83.7%\n",
      "total_acc                               9\n",
      "initial_list_status                     f\n",
      "last_credit_pull_d               Nov-2016\n",
      "collections_12_mths_ex_med              0\n",
      "policy_code                             1\n",
      "application_type               INDIVIDUAL\n",
      "acc_now_delinq                          0\n",
      "chargeoff_within_12_mths                0\n",
      "delinq_amnt                             0\n",
      "pub_rec_bankruptcies                    0\n",
      "tax_liens                               0\n",
      "Name: 0, dtype: object\n",
      "32\n"
     ]
    }
   ],
   "source": [
    "\n",
    "loans_2007 = loans_2007.drop([\"total_rec_int\", \"total_rec_late_fee\", \"recoveries\", \"collection_recovery_fee\", \"last_pymnt_d\", \"last_pymnt_amnt\"], axis=1)\n",
    "print(loans_2007.iloc[0])\n",
    "print(loans_2007.shape[1])"
   ]
  },
  {
   "cell_type": "markdown",
   "metadata": {},
   "source": [
    "经过数据预处理现剩余32个特征"
   ]
  },
  {
   "cell_type": "markdown",
   "metadata": {},
   "source": [
    "# 特征抽象 \n",
    "在众多特征中，有个特征变量loan_status（贷款状态）来描述当前贷款处于什么状态，其中包括Current、Fully Paid、Charged Off（注销）、Default、In Grace Period（在宽限期）、Late (16-30 days)（延期16-30天） 、Late (31-120 days)（延期31-120天）这几种状态。"
   ]
  },
  {
   "cell_type": "code",
   "execution_count": 12,
   "metadata": {},
   "outputs": [
    {
     "name": "stdout",
     "output_type": "stream",
     "text": [
      "Fully Paid                                             33902\n",
      "Charged Off                                             5658\n",
      "Does not meet the credit policy. Status:Fully Paid      1988\n",
      "Does not meet the credit policy. Status:Charged Off      761\n",
      "Current                                                  201\n",
      "Late (31-120 days)                                        10\n",
      "In Grace Period                                            9\n",
      "Late (16-30 days)                                          5\n",
      "Default                                                    1\n",
      "Name: loan_status, dtype: int64\n"
     ]
    }
   ],
   "source": [
    "#查看目标值\n",
    "print(loans_2007['loan_status'].value_counts())"
   ]
  },
  {
   "cell_type": "code",
   "execution_count": 13,
   "metadata": {},
   "outputs": [],
   "source": [
    "# 目标值映射\n",
    "loans_2007 = loans_2007[(loans_2007['loan_status'] == \"Fully Paid\") | (loans_2007['loan_status'] == \"Charged Off\")]\n",
    "\n",
    "status_replace = {\n",
    "    \"loan_status\" : {\n",
    "        \"Fully Paid\": 1,\n",
    "        \"Charged Off\": 0,\n",
    "    }\n",
    "}\n",
    "\n",
    "loans_2007 = loans_2007.replace(status_replace)"
   ]
  },
  {
   "cell_type": "code",
   "execution_count": 14,
   "metadata": {},
   "outputs": [
    {
     "data": {
      "text/plain": [
       "1    33902\n",
       "0     5658\n",
       "Name: loan_status, dtype: int64"
      ]
     },
     "execution_count": 14,
     "metadata": {},
     "output_type": "execute_result"
    }
   ],
   "source": [
    "loans_status_counts  = loans_2007['loan_status'].value_counts()\n",
    "loans_status_counts"
   ]
  },
  {
   "cell_type": "code",
   "execution_count": 15,
   "metadata": {},
   "outputs": [
    {
     "data": {
      "text/plain": [
       "<matplotlib.axes._subplots.AxesSubplot at 0x1c33c8af208>"
      ]
     },
     "execution_count": 15,
     "metadata": {},
     "output_type": "execute_result"
    },
    {
     "data": {
      "image/png": "[encoded data removed]",
      "text/plain": [
       "<Figure size 720x360 with 2 Axes>"
      ]
     },
     "metadata": {},
     "output_type": "display_data"
    }
   ],
   "source": [
    "import matplotlib.pyplot as plt\n",
    "%matplotlib inline\n",
    "# 贷款状态\n",
    "plt.figure(figsize=(10,5))\n",
    "# 饼图\n",
    "ax = plt.subplot(1,2,1)\n",
    "loans_status_counts.plot(kind = 'pie',autopct = '%0.3f%%',ax = ax)\n",
    "\n",
    "# 柱状图\n",
    "ax = plt.subplot(1,2,2)\n",
    "loans_status_counts.plot(kind = 'bar',ax = ax)"
   ]
  },
  {
   "cell_type": "code",
   "execution_count": 16,
   "metadata": {},
   "outputs": [
    {
     "name": "stdout",
     "output_type": "stream",
     "text": [
      "['initial_list_status', 'collections_12_mths_ex_med', 'policy_code', 'application_type', 'acc_now_delinq', 'chargeoff_within_12_mths', 'delinq_amnt', 'tax_liens']\n",
      "(39560, 24)\n"
     ]
    }
   ],
   "source": [
    "# 让我们查找任何只包含一个惟一值的列并删除它们,因为都一样对预测结果无影响\n",
    "\n",
    "orig_columns = loans_2007.columns\n",
    "drop_columns = []\n",
    "for col in orig_columns:\n",
    "    col_series = loans_2007[col].dropna().unique()\n",
    "    if len(col_series) == 1:\n",
    "        drop_columns.append(col)\n",
    "loans_2007 = loans_2007.drop(drop_columns, axis=1)\n",
    "print(drop_columns)\n",
    "print (loans_2007.shape)\n",
    "loans_2007.to_csv('filtered_loans_2007.csv', index=False)"
   ]
  },
  {
   "cell_type": "code",
   "execution_count": 17,
   "metadata": {
    "scrolled": true
   },
   "outputs": [
    {
     "name": "stdout",
     "output_type": "stream",
     "text": [
      "loan_amnt                  0\n",
      "term                       0\n",
      "int_rate                   0\n",
      "installment                0\n",
      "emp_length              1073\n",
      "home_ownership             0\n",
      "annual_inc                 0\n",
      "verification_status        0\n",
      "loan_status                0\n",
      "pymnt_plan                 0\n",
      "purpose                    0\n",
      "title                     11\n",
      "addr_state                 0\n",
      "dti                        0\n",
      "delinq_2yrs                0\n",
      "earliest_cr_line           0\n",
      "inq_last_6mths             0\n",
      "open_acc                   0\n",
      "pub_rec                    0\n",
      "revol_bal                  0\n",
      "revol_util                50\n",
      "total_acc                  0\n",
      "last_credit_pull_d         2\n",
      "pub_rec_bankruptcies     697\n",
      "dtype: int64\n"
     ]
    }
   ],
   "source": [
    "# 查看过滤后的数据是否还有空值\n",
    "import pandas as pd\n",
    "loans = pd.read_csv('filtered_loans_2007.csv')\n",
    "null_counts = loans.isnull().sum()\n",
    "print(null_counts)"
   ]
  },
  {
   "cell_type": "code",
   "execution_count": 18,
   "metadata": {
    "scrolled": false
   },
   "outputs": [
    {
     "data": {
      "text/plain": [
       "Index(['loan_amnt', 'term', 'int_rate', 'installment', 'emp_length',\n",
       "       'home_ownership', 'annual_inc', 'verification_status', 'loan_status',\n",
       "       'pymnt_plan', 'purpose', 'title', 'addr_state', 'dti', 'delinq_2yrs',\n",
       "       'earliest_cr_line', 'inq_last_6mths', 'open_acc', 'pub_rec',\n",
       "       'revol_bal', 'revol_util', 'total_acc', 'last_credit_pull_d',\n",
       "       'pub_rec_bankruptcies'],\n",
       "      dtype='object')"
      ]
     },
     "execution_count": 18,
     "metadata": {},
     "output_type": "execute_result"
    }
   ],
   "source": [
    "loans.columns"
   ]
  },
  {
   "cell_type": "markdown",
   "metadata": {},
   "source": [
    " # 其他数据类型转数值化处理"
   ]
  },
  {
   "cell_type": "code",
   "execution_count": 19,
   "metadata": {},
   "outputs": [
    {
     "name": "stdout",
     "output_type": "stream",
     "text": [
      "object     12\n",
      "float64    10\n",
      "int64       1\n",
      "dtype: int64\n"
     ]
    }
   ],
   "source": [
    "# 查看数据的数据类型\n",
    "loans = loans.drop(\"pub_rec_bankruptcies\", axis=1)\n",
    "loans = loans.dropna(axis=0)\n",
    "\n",
    "print(loans.dtypes.value_counts())"
   ]
  },
  {
   "cell_type": "code",
   "execution_count": 20,
   "metadata": {},
   "outputs": [
    {
     "name": "stdout",
     "output_type": "stream",
     "text": [
      "term                     36 months\n",
      "int_rate                    10.65%\n",
      "emp_length               10+ years\n",
      "home_ownership                RENT\n",
      "verification_status       Verified\n",
      "pymnt_plan                       n\n",
      "purpose                credit_card\n",
      "title                     Computer\n",
      "addr_state                      AZ\n",
      "earliest_cr_line          Jan-1985\n",
      "revol_util                   83.7%\n",
      "last_credit_pull_d        Nov-2016\n",
      "Name: 0, dtype: object\n"
     ]
    }
   ],
   "source": [
    "# 查看具体哪些数值维object\n",
    "object_columns_df = loans.select_dtypes(include=[\"object\"])\n",
    "print(object_columns_df.iloc[0])"
   ]
  },
  {
   "cell_type": "code",
   "execution_count": 21,
   "metadata": {
    "scrolled": true
   },
   "outputs": [
    {
     "name": "stdout",
     "output_type": "stream",
     "text": [
      "RENT        18371\n",
      "MORTGAGE    17131\n",
      "OWN          2827\n",
      "OTHER          96\n",
      "NONE            3\n",
      "Name: home_ownership, dtype: int64\n",
      "Not Verified       16436\n",
      "Verified           12251\n",
      "Source Verified     9741\n",
      "Name: verification_status, dtype: int64\n",
      "10+ years    8821\n",
      "< 1 year     4563\n",
      "2 years      4371\n",
      "3 years      4074\n",
      "4 years      3409\n",
      "5 years      3270\n",
      "1 year       3227\n",
      "6 years      2212\n",
      "7 years      1756\n",
      "8 years      1472\n",
      "9 years      1253\n",
      "Name: emp_length, dtype: int64\n",
      " 36 months    28234\n",
      " 60 months    10194\n",
      "Name: term, dtype: int64\n",
      "CA    6882\n",
      "NY    3684\n",
      "FL    2766\n",
      "TX    2659\n",
      "NJ    1814\n",
      "IL    1480\n",
      "PA    1470\n",
      "VA    1371\n",
      "GA    1352\n",
      "MA    1306\n",
      "OH    1177\n",
      "MD    1030\n",
      "AZ     828\n",
      "WA     800\n",
      "CO     764\n",
      "NC     754\n",
      "CT     728\n",
      "MI     688\n",
      "MO     658\n",
      "MN     589\n",
      "NV     477\n",
      "SC     462\n",
      "WI     439\n",
      "OR     431\n",
      "AL     429\n",
      "LA     425\n",
      "KY     321\n",
      "OK     292\n",
      "KS     258\n",
      "UT     251\n",
      "AR     233\n",
      "DC     211\n",
      "RI     196\n",
      "NM     182\n",
      "HI     168\n",
      "WV     167\n",
      "NH     162\n",
      "DE     110\n",
      "WY      79\n",
      "MT      78\n",
      "AK      77\n",
      "SD      62\n",
      "VT      54\n",
      "MS      19\n",
      "TN      17\n",
      "IN       9\n",
      "ID       6\n",
      "IA       5\n",
      "NE       5\n",
      "ME       3\n",
      "Name: addr_state, dtype: int64\n"
     ]
    }
   ],
   "source": [
    "cols = ['home_ownership', 'verification_status', 'emp_length', 'term', 'addr_state']\n",
    "for c in cols:\n",
    "    print(loans[c].value_counts())"
   ]
  },
  {
   "cell_type": "code",
   "execution_count": 22,
   "metadata": {
    "scrolled": true
   },
   "outputs": [
    {
     "name": "stdout",
     "output_type": "stream",
     "text": [
      "debt_consolidation    18137\n",
      "credit_card            4970\n",
      "other                  3803\n",
      "home_improvement       2869\n",
      "major_purchase         2108\n",
      "small_business         1771\n",
      "car                    1492\n",
      "wedding                 932\n",
      "medical                 667\n",
      "moving                  557\n",
      "house                   365\n",
      "vacation                350\n",
      "educational             312\n",
      "renewable_energy         95\n",
      "Name: purpose, dtype: int64\n",
      "Debt Consolidation                          2128\n",
      "Debt Consolidation Loan                     1671\n",
      "Personal Loan                                640\n",
      "Consolidation                                503\n",
      "debt consolidation                           483\n",
      "Credit Card Consolidation                    348\n",
      "Home Improvement                             344\n",
      "Debt consolidation                           323\n",
      "Small Business Loan                          310\n",
      "Credit Card Loan                             302\n",
      "Personal                                     296\n",
      "Consolidation Loan                           254\n",
      "Home Improvement Loan                        237\n",
      "personal loan                                224\n",
      "Wedding Loan                                 207\n",
      "personal                                     207\n",
      "Loan                                         206\n",
      "Car Loan                                     193\n",
      "consolidation                                193\n",
      "Other Loan                                   177\n",
      "Wedding                                      151\n",
      "Credit Card Payoff                           149\n",
      "Credit Card Refinance                        140\n",
      "Major Purchase Loan                          136\n",
      "Consolidate                                  126\n",
      "Medical                                      114\n",
      "Credit Card                                  112\n",
      "home improvement                             105\n",
      "Credit Cards                                  93\n",
      "My Loan                                       92\n",
      "                                            ... \n",
      "Pay off Chase Credit Card                      1\n",
      "Racked up the cards, making them go away       1\n",
      "Help with college expenses                     1\n",
      "Consolidate/Home Improvement                   1\n",
      "Doing the Right thing                          1\n",
      "From DC to NY. The Dream                       1\n",
      "Pay it all off                                 1\n",
      "Candis payoff                                  1\n",
      "FinishingBasement                              1\n",
      "Credit cards & 1099-misc                       1\n",
      "helpinghand                                    1\n",
      "Credit Card Pay Off--YEAH!!!!!                 1\n",
      "Credit Card Debt be Gone                       1\n",
      "Trucking                                       1\n",
      "Salt Spreader                                  1\n",
      "Julia's New Life                               1\n",
      "1 new loan                                     1\n",
      "Tiff car loan                                  1\n",
      "Paying off high interest loan                  1\n",
      "My Business Loan                               1\n",
      "Mcqueen, Lighting                              1\n",
      "E Bike                                         1\n",
      "JP's loan                                      1\n",
      "finish                                         1\n",
      "Military Home Purchase                         1\n",
      "Kelley's Personal Loan                         1\n",
      "Business School Payoff                         1\n",
      "Ocean loan                                     1\n",
      "Debt Consolidation and more!                   1\n",
      "singlemom loan                                 1\n",
      "Name: title, Length: 19094, dtype: int64\n"
     ]
    }
   ],
   "source": [
    "print(loans[\"purpose\"].value_counts())\n",
    "print(loans[\"title\"].value_counts())"
   ]
  },
  {
   "cell_type": "code",
   "execution_count": 23,
   "metadata": {},
   "outputs": [],
   "source": [
    "# 数值映射,规范化数据为数值型 \n",
    "mapping_dict = {\n",
    "    \"emp_length\": {\n",
    "        \"10+ years\": 10,\n",
    "        \"9 years\": 9,\n",
    "        \"8 years\": 8,\n",
    "        \"7 years\": 7,\n",
    "        \"6 years\": 6,\n",
    "        \"5 years\": 5,\n",
    "        \"4 years\": 4,\n",
    "        \"3 years\": 3,\n",
    "        \"2 years\": 2,\n",
    "        \"1 year\": 1,\n",
    "        \"< 1 year\": 0,\n",
    "        \"n/a\": 0\n",
    "    }\n",
    "}\n",
    "loans = loans.drop([\"last_credit_pull_d\", \"earliest_cr_line\", \"addr_state\", \"title\"], axis=1)\n",
    "loans[\"int_rate\"] = loans[\"int_rate\"].str.rstrip(\"%\").astype(\"float\")\n",
    "loans[\"revol_util\"] = loans[\"revol_util\"].str.rstrip(\"%\").astype(\"float\")\n",
    "loans = loans.replace(mapping_dict)"
   ]
  },
  {
   "cell_type": "code",
   "execution_count": 24,
   "metadata": {},
   "outputs": [],
   "source": [
    "# 用get_dummies进行one-hot编码\n",
    "cat_columns = [\"home_ownership\", \"verification_status\", \"emp_length\", \"purpose\", \"term\"]\n",
    "dummy_df = pd.get_dummies(loans[cat_columns])\n",
    "loans = pd.concat([loans, dummy_df], axis=1)\n",
    "loans = loans.drop(cat_columns, axis=1)\n",
    "loans = loans.drop(\"pymnt_plan\", axis=1)"
   ]
  },
  {
   "cell_type": "code",
   "execution_count": 25,
   "metadata": {},
   "outputs": [],
   "source": [
    "loans.to_csv('cleaned_loans2007.csv', index=False)\n"
   ]
  },
  {
   "cell_type": "code",
   "execution_count": 26,
   "metadata": {
    "scrolled": true
   },
   "outputs": [
    {
     "data": {
      "text/plain": [
       "loan_amnt                              False\n",
       "int_rate                               False\n",
       "installment                            False\n",
       "annual_inc                             False\n",
       "loan_status                            False\n",
       "dti                                    False\n",
       "delinq_2yrs                            False\n",
       "inq_last_6mths                         False\n",
       "open_acc                               False\n",
       "pub_rec                                False\n",
       "revol_bal                              False\n",
       "revol_util                             False\n",
       "total_acc                              False\n",
       "home_ownership_MORTGAGE                False\n",
       "home_ownership_NONE                    False\n",
       "home_ownership_OTHER                   False\n",
       "home_ownership_OWN                     False\n",
       "home_ownership_RENT                    False\n",
       "verification_status_Not Verified       False\n",
       "verification_status_Source Verified    False\n",
       "verification_status_Verified           False\n",
       "purpose_car                            False\n",
       "purpose_credit_card                    False\n",
       "purpose_debt_consolidation             False\n",
       "purpose_educational                    False\n",
       "purpose_home_improvement               False\n",
       "purpose_house                          False\n",
       "purpose_major_purchase                 False\n",
       "purpose_medical                        False\n",
       "purpose_moving                         False\n",
       "purpose_other                          False\n",
       "purpose_renewable_energy               False\n",
       "purpose_small_business                 False\n",
       "purpose_vacation                       False\n",
       "purpose_wedding                        False\n",
       "term_ 36 months                        False\n",
       "term_ 60 months                        False\n",
       "dtype: bool"
      ]
     },
     "execution_count": 26,
     "metadata": {},
     "output_type": "execute_result"
    }
   ],
   "source": [
    "\n",
    "loans = pd.read_csv(\"cleaned_loans2007.csv\")\n",
    "loans.isnull().any()"
   ]
  },
  {
   "cell_type": "code",
   "execution_count": 88,
   "metadata": {
    "scrolled": true
   },
   "outputs": [
    {
     "name": "stdout",
     "output_type": "stream",
     "text": [
      "<class 'pandas.core.frame.DataFrame'>\n",
      "RangeIndex: 38428 entries, 0 to 38427\n",
      "Data columns (total 37 columns):\n",
      "loan_amnt                              38428 non-null float64\n",
      "int_rate                               38428 non-null float64\n",
      "installment                            38428 non-null float64\n",
      "annual_inc                             38428 non-null float64\n",
      "loan_status                            38428 non-null int64\n",
      "dti                                    38428 non-null float64\n",
      "delinq_2yrs                            38428 non-null float64\n",
      "inq_last_6mths                         38428 non-null float64\n",
      "open_acc                               38428 non-null float64\n",
      "pub_rec                                38428 non-null float64\n",
      "revol_bal                              38428 non-null float64\n",
      "revol_util                             38428 non-null float64\n",
      "total_acc                              38428 non-null float64\n",
      "home_ownership_MORTGAGE                38428 non-null int64\n",
      "home_ownership_NONE                    38428 non-null int64\n",
      "home_ownership_OTHER                   38428 non-null int64\n",
      "home_ownership_OWN                     38428 non-null int64\n",
      "home_ownership_RENT                    38428 non-null int64\n",
      "verification_status_Not Verified       38428 non-null int64\n",
      "verification_status_Source Verified    38428 non-null int64\n",
      "verification_status_Verified           38428 non-null int64\n",
      "purpose_car                            38428 non-null int64\n",
      "purpose_credit_card                    38428 non-null int64\n",
      "purpose_debt_consolidation             38428 non-null int64\n",
      "purpose_educational                    38428 non-null int64\n",
      "purpose_home_improvement               38428 non-null int64\n",
      "purpose_house                          38428 non-null int64\n",
      "purpose_major_purchase                 38428 non-null int64\n",
      "purpose_medical                        38428 non-null int64\n",
      "purpose_moving                         38428 non-null int64\n",
      "purpose_other                          38428 non-null int64\n",
      "purpose_renewable_energy               38428 non-null int64\n",
      "purpose_small_business                 38428 non-null int64\n",
      "purpose_vacation                       38428 non-null int64\n",
      "purpose_wedding                        38428 non-null int64\n",
      "term_ 36 months                        38428 non-null int64\n",
      "term_ 60 months                        38428 non-null int64\n",
      "dtypes: float64(12), int64(25)\n",
      "memory usage: 10.8 MB\n",
      "None\n"
     ]
    }
   ],
   "source": [
    "# 确认处理完的数据是否全为数值型\n",
    "import pandas as pd\n",
    "loans = pd.read_csv(\"cleaned_loans2007.csv\")\n",
    "print(loans.info())"
   ]
  },
  {
   "cell_type": "markdown",
   "metadata": {},
   "source": [
    "# 设计模型(逻辑斯梯)`"
   ]
  },
  {
   "cell_type": "code",
   "execution_count": null,
   "metadata": {},
   "outputs": [],
   "source": []
  },
  {
   "cell_type": "code",
   "execution_count": 29,
   "metadata": {},
   "outputs": [],
   "source": [
    "import pandas as pd\n",
    "# False positives.\n",
    "fp_filter = (predictions == 1) & (loans[\"loan_status\"] == 0)\n",
    "fp = len(predictions[fp_filter])\n",
    "\n",
    "# True positives.\n",
    "tp_filter = (predictions == 1) & (loans[\"loan_status\"] == 1)\n",
    "tp = len(predictions[tp_filter])\n",
    "\n",
    "# False negatives.\n",
    "fn_filter = (predictions == 0) & (loans[\"loan_status\"] == 1)\n",
    "fn = len(predictions[fn_filter])\n",
    "\n",
    "# True negatives\n",
    "tn_filter = (predictions == 0) & (loans[\"loan_status\"] == 0)\n",
    "tn = len(predictions[tn_filter])\n",
    "# display(fp_filter,fp,tp_filter,tp,fn_filter,fn,tn_filter,tn)"
   ]
  },
  {
   "cell_type": "code",
   "execution_count": 28,
   "metadata": {},
   "outputs": [
    {
     "name": "stdout",
     "output_type": "stream",
     "text": [
      "[1 1 1 ... 1 1 1]\n"
     ]
    }
   ],
   "source": [
    "# 逻辑斯梯\n",
    "\n",
    "from sklearn.linear_model import LogisticRegression\n",
    "lr = LogisticRegression()\n",
    "cols = loans.columns\n",
    "train_cols = cols.drop(\"loan_status\")\n",
    "# 训练值\n",
    "features = loans[train_cols]\n",
    "# 目标值\n",
    "target = loans[\"loan_status\"]\n",
    "# 算法训练\n",
    "lr.fit(features,target)\n",
    "# 预测目标值\n",
    "predictions = lr.predict(features)\n",
    "\n",
    "print(predictions)"
   ]
  },
  {
   "cell_type": "code",
   "execution_count": 30,
   "metadata": {},
   "outputs": [
    {
     "name": "stderr",
     "output_type": "stream",
     "text": [
      "D:\\ProgramData\\Anaconda3\\lib\\site-packages\\sklearn\\cross_validation.py:41: DeprecationWarning: This module was deprecated in version 0.18 in favor of the model_selection module into which all the refactored classes and functions are moved. Also note that the interface of the new CV iterators are different from that of this module. This module will be removed in 0.20.\n",
      "  \"This module will be removed in 0.20.\", DeprecationWarning)\n"
     ]
    },
    {
     "name": "stdout",
     "output_type": "stream",
     "text": [
      "0.9744071236029924\n",
      "0.9414156348179634\n"
     ]
    }
   ],
   "source": [
    "#  随机森林\n",
    "from sklearn.ensemble import RandomForestClassifier\n",
    "from sklearn.cross_validation import cross_val_predict,KFold\n",
    "rf = RandomForestClassifier(n_estimators=10,class_weight=\"balanced\", random_state=1)\n",
    "#print help(RandomForestClassifier)\n",
    "kf = KFold(features.shape[0], random_state=1)\n",
    "predictions = cross_val_predict(rf, features, target, cv=kf)\n",
    "predictions = pd.Series(predictions)\n",
    "\n",
    "# False positives.\n",
    "fp_filter = (predictions == 1) & (loans[\"loan_status\"] == 0)\n",
    "fp = len(predictions[fp_filter])\n",
    "\n",
    "# True positives.\n",
    "tp_filter = (predictions == 1) & (loans[\"loan_status\"] == 1)\n",
    "tp = len(predictions[tp_filter])\n",
    "\n",
    "# False negatives.\n",
    "fn_filter = (predictions == 0) & (loans[\"loan_status\"] == 1)\n",
    "fn = len(predictions[fn_filter])\n",
    "\n",
    "# True negatives\n",
    "tn_filter = (predictions == 0) & (loans[\"loan_status\"] == 0)\n",
    "tn = len(predictions[tn_filter])\n",
    "\n",
    "# Rates\n",
    "tpr = tp / float((tp + fn))\n",
    "fpr = fp / float((fp + tn))\n",
    "print(tpr)\n",
    "print(fpr)"
   ]
  },
  {
   "cell_type": "code",
   "execution_count": 31,
   "metadata": {
    "scrolled": true
   },
   "outputs": [
    {
     "name": "stdout",
     "output_type": "stream",
     "text": [
      "0.9744071236029924\n",
      "0.8719191919191919\n",
      "0     1\n",
      "1     0\n",
      "2     0\n",
      "3     1\n",
      "4     1\n",
      "5     0\n",
      "6     0\n",
      "7     0\n",
      "8     0\n",
      "9     0\n",
      "10    1\n",
      "11    0\n",
      "12    1\n",
      "13    1\n",
      "14    0\n",
      "15    0\n",
      "16    1\n",
      "17    1\n",
      "18    1\n",
      "19    0\n",
      "dtype: int64\n"
     ]
    }
   ],
   "source": [
    "# 随机森林--K折交叉验证\n",
    "from sklearn.linear_model import LogisticRegression\n",
    "from sklearn.cross_validation import  cross_val_predict,KFold\n",
    "lr = LogisticRegression(class_weight=\"balanced\")\n",
    "\n",
    "kf = KFold(features.shape[0],random_state = 1)\n",
    "predictions = cross_val_predict(lr,features,target,cv = kf)\n",
    "predictions = pd.Series(predictions)\n",
    "\n",
    "# False positives.\n",
    "fp_filter = (predictions == 1) & (loans[\"loan_status\"] == 0)\n",
    "fp = len(predictions[fp_filter])\n",
    "\n",
    "# True positives.\n",
    "tp_filter = (predictions == 0) & (loans[\"loan_status\"] == 1)\n",
    "fn = len(predictions[fn_filter])\n",
    "\n",
    "# True negative.\n",
    "tn_filkter = (predictions == 0) & (loans[\"loan_status\"] == 0)\n",
    "tn = len(predictions[tn_filter])\n",
    "\n",
    "# Rates \n",
    "tpr = tp / float((tp + fn))\n",
    "fpr = fp / float((fp + tn))\n",
    "\n",
    "print(tpr) \n",
    "print(fpr)\n",
    "print (predictions[:20])\n"
   ]
  },
  {
   "cell_type": "markdown",
   "metadata": {},
   "source": [
    "# 优化模型TPR,FPR -- K折交叉验证,权重系数"
   ]
  },
  {
   "cell_type": "code",
   "execution_count": 32,
   "metadata": {
    "scrolled": true
   },
   "outputs": [
    {
     "name": "stdout",
     "output_type": "stream",
     "text": [
      "[1 0 0 ... 1 1 1]\n",
      "****\n",
      "0        1\n",
      "1        0\n",
      "2        0\n",
      "3        1\n",
      "4        1\n",
      "5        0\n",
      "6        0\n",
      "7        0\n",
      "8        0\n",
      "9        1\n",
      "10       1\n",
      "11       0\n",
      "12       0\n",
      "13       1\n",
      "14       0\n",
      "15       1\n",
      "16       1\n",
      "17       1\n",
      "18       1\n",
      "19       0\n",
      "20       1\n",
      "21       1\n",
      "22       1\n",
      "23       1\n",
      "24       1\n",
      "25       1\n",
      "26       0\n",
      "27       1\n",
      "28       0\n",
      "29       1\n",
      "        ..\n",
      "38398    1\n",
      "38399    1\n",
      "38400    0\n",
      "38401    1\n",
      "38402    0\n",
      "38403    1\n",
      "38404    1\n",
      "38405    1\n",
      "38406    1\n",
      "38407    1\n",
      "38408    1\n",
      "38409    1\n",
      "38410    1\n",
      "38411    1\n",
      "38412    1\n",
      "38413    1\n",
      "38414    1\n",
      "38415    1\n",
      "38416    1\n",
      "38417    1\n",
      "38418    1\n",
      "38419    1\n",
      "38420    1\n",
      "38421    1\n",
      "38422    1\n",
      "38423    1\n",
      "38424    1\n",
      "38425    1\n",
      "38426    1\n",
      "38427    1\n",
      "Length: 38428, dtype: int64\n",
      "*****\n",
      "0.7449192840052095\n",
      "0.5067455183884679\n"
     ]
    }
   ],
   "source": [
    "# 逻辑斯梯- - 因样本不均衡 ,设置权重不同\n",
    "from sklearn.linear_model import LogisticRegression\n",
    "from sklearn.cross_validation import cross_val_predict,KFold\n",
    "\n",
    "penalty = {\n",
    "    0: 5,\n",
    "    1: 1\n",
    "}\n",
    "\n",
    "lr = LogisticRegression(class_weight=penalty)\n",
    "kf = KFold(features.shape[0], random_state=1)\n",
    "predictions = cross_val_predict(lr, features, target, cv=kf)\n",
    "print(predictions)\n",
    "predictions = pd.Series(predictions)\n",
    "print(\"****\")\n",
    "print(predictions)\n",
    "print(\"*****\")\n",
    "# False positives.\n",
    "fp_filter = (predictions == 1) & (loans[\"loan_status\"] == 0)\n",
    "fp = len(predictions[fp_filter])\n",
    "\n",
    "# True positives.\n",
    "tp_filter = (predictions == 1) & (loans[\"loan_status\"] == 1)\n",
    "tp = len(predictions[tp_filter])\n",
    "\n",
    "# False negatives.\n",
    "fn_filter = (predictions == 0) & (loans[\"loan_status\"] == 1)\n",
    "fn = len(predictions[fn_filter])\n",
    "\n",
    "# True negatives\n",
    "tn_filter = (predictions == 0) & (loans[\"loan_status\"] == 0)\n",
    "tn = len(predictions[tn_filter])\n",
    "\n",
    "# Rates\n",
    "tpr = tp / float((tp + fn))\n",
    "fpr = fp / float((fp + tn))\n",
    "\n",
    "print(tpr)\n",
    "print(fpr)"
   ]
  },
  {
   "cell_type": "code",
   "execution_count": 33,
   "metadata": {},
   "outputs": [
    {
     "name": "stdout",
     "output_type": "stream",
     "text": [
      "0.9744071236029924\n",
      "0.9414156348179634\n"
     ]
    }
   ],
   "source": [
    "# 随机森林- K折交叉验证\n",
    "from sklearn.ensemble import RandomForestClassifier\n",
    "from sklearn.cross_validation import cross_val_predict\n",
    "rf = RandomForestClassifier(n_estimators=10,class_weight=\"balanced\", random_state=1)\n",
    "#print help(RandomForestClassifier)\n",
    "kf = KFold(features.shape[0], random_state=1)\n",
    "predictions = cross_val_predict(rf, features, target, cv=kf)\n",
    "predictions = pd.Series(predictions)\n",
    "\n",
    "# False positives.\n",
    "fp_filter = (predictions == 1) & (loans[\"loan_status\"] == 0)\n",
    "fp = len(predictions[fp_filter])\n",
    "\n",
    "# True positives.\n",
    "tp_filter = (predictions == 1) & (loans[\"loan_status\"] == 1)\n",
    "tp = len(predictions[tp_filter])\n",
    "\n",
    "# False negatives.\n",
    "fn_filter = (predictions == 0) & (loans[\"loan_status\"] == 1)\n",
    "fn = len(predictions[fn_filter])\n",
    "\n",
    "# True negatives\n",
    "tn_filter = (predictions == 0) & (loans[\"loan_status\"] == 0)\n",
    "tn = len(predictions[tn_filter])\n",
    "\n",
    "# Rates\n",
    "tpr = tp / float((tp + fn))\n",
    "fpr = fp / float((fp + tn))\n",
    "\n",
    "print(tpr)\n",
    "print(fpr)"
   ]
  },
  {
   "cell_type": "code",
   "execution_count": 34,
   "metadata": {},
   "outputs": [
    {
     "name": "stdout",
     "output_type": "stream",
     "text": [
      "0.9992731017354696\n",
      "0.9985215302162262\n"
     ]
    }
   ],
   "source": [
    "# 随机森林 --调节权重\n",
    "from sklearn.ensemble import RandomForestClassifier\n",
    "from sklearn.cross_validation import cross_val_predict\n",
    "\n",
    "\n",
    "penalty = {\n",
    "    0: 5,\n",
    "    1: 1\n",
    "}\n",
    "rf = RandomForestClassifier(n_estimators=1000,class_weight=penalty, random_state=1)\n",
    "#print help(RandomForestClassifier)\n",
    "kf = KFold(features.shape[0], random_state=1)\n",
    "predictions = cross_val_predict(rf, features, target, cv=kf)\n",
    "predictions = pd.Series(predictions)\n",
    "\n",
    "# False positives.\n",
    "fp_filter = (predictions == 1) & (loans[\"loan_status\"] == 0)\n",
    "fp = len(predictions[fp_filter])\n",
    "\n",
    "# True positives.\n",
    "tp_filter = (predictions == 1) & (loans[\"loan_status\"] == 1)\n",
    "tp = len(predictions[tp_filter])\n",
    "\n",
    "# False negatives.\n",
    "fn_filter = (predictions == 0) & (loans[\"loan_status\"] == 1)\n",
    "fn = len(predictions[fn_filter])\n",
    "\n",
    "# True negatives\n",
    "tn_filter = (predictions == 0) & (loans[\"loan_status\"] == 0)\n",
    "tn = len(predictions[tn_filter])\n",
    "\n",
    "# Rates\n",
    "tpr = tp / float((tp + fn))\n",
    "fpr = fp / float((fp + tn))\n",
    "\n",
    "print(tpr)\n",
    "print(fpr)"
   ]
  },
  {
   "cell_type": "markdown",
   "metadata": {},
   "source": [
    "总结: 针对特征数量较少的,随机森林,耗时较长,算法不如逻辑斯梯效率高  \n",
    "针对模型的好坏:在某些情况中，我们也许需要以牺牲另一个指标为代价来最大化精度(精确率)或者召回率。\n",
    "例如，在金融危机时，我们可能希望得到接近于 1 的召回率—我们想\n",
    "找到所有可能违约人。\n",
    "但如果代价不是很高，我们可以接受较低的精度。然而，如果我们想要找到精度(精确率)和召回率的最佳\n",
    "组合，我们可以使用 F1 score 来对两者进行结合。\n",
    "F1=（1+a2）*precision*recall/（a*precision+recall）\n",
    "a2是a的平方，一般默认a= 1"
   ]
  },
  {
   "cell_type": "markdown",
   "metadata": {},
   "source": [
    "# 计算AUC,ROC 可视化显示"
   ]
  },
  {
   "cell_type": "code",
   "execution_count": 35,
   "metadata": {},
   "outputs": [],
   "source": [
    "from sklearn.metrics import roc_curve, auc  ###计算roc和auc  \n",
    "import matplotlib.pyplot as plt  \n",
    "%matplotlib inline"
   ]
  },
  {
   "cell_type": "code",
   "execution_count": 36,
   "metadata": {},
   "outputs": [],
   "source": [
    "# 逻辑斯梯\n",
    "from sklearn.linear_model import LogisticRegression\n",
    "lr = LogisticRegression()\n",
    "cols = loans.columns\n",
    "train_cols = cols.drop(\"loan_status\")\n",
    "# 训练值\n",
    "features = loans[train_cols]\n",
    "# 目标值\n",
    "target = loans[\"loan_status\"]\n",
    "# 算法训练\n",
    "lr.fit(features,target)\n",
    "# 预测目标值\n",
    "predictions = lr.predict(features)"
   ]
  },
  {
   "cell_type": "code",
   "execution_count": null,
   "metadata": {
    "scrolled": true
   },
   "outputs": [],
   "source": []
  },
  {
   "cell_type": "code",
   "execution_count": 37,
   "metadata": {},
   "outputs": [
    {
     "data": {
      "text/plain": [
       "38428"
      ]
     },
     "execution_count": 37,
     "metadata": {},
     "output_type": "execute_result"
    }
   ],
   "source": [
    "features.shape[0]"
   ]
  },
  {
   "cell_type": "code",
   "execution_count": null,
   "metadata": {},
   "outputs": [],
   "source": []
  },
  {
   "cell_type": "code",
   "execution_count": 38,
   "metadata": {},
   "outputs": [
    {
     "name": "stdout",
     "output_type": "stream",
     "text": [
      "[0.68290398 0.6701538  0.7753923 ]\n",
      "0.7094833605542649###\n"
     ]
    }
   ],
   "source": [
    "# 逻辑斯梯- - 因样本不均衡 ,设置权重不同  借用第三方库实现ROC\n",
    "from sklearn.linear_model import LogisticRegression\n",
    "from sklearn.cross_validation import KFold\n",
    "from sklearn.cross_validation import cross_val_score\n",
    "\n",
    "penalty = {\n",
    "    0: 5,\n",
    "    1: 1\n",
    "}\n",
    "\n",
    "kf = KFold(features.shape[0], random_state=1)\n",
    "lr = LogisticRegression(class_weight=penalty)\n",
    "# predictions = cross_val_predict(lr, features, target, cv=kf)\n",
    "accuracies = cross_val_score(lr, features, target,scoring = \"accuracy\", cv=kf)\n",
    "# accuracies = cross_val_score(lr, features, target,scoring = \"roc_auc\", cv=kf)\n",
    "average_accuracy = sum(accuracies) / len(accuracies)\n",
    "\n",
    "print(accuracies)\n",
    "\n",
    "print(str(average_accuracy) + \"###\")\n",
    "\n",
    "\n",
    "# print(predictions)\n",
    "# predictions = pd.Series(predictions)\n",
    "# print(\"****\")\n",
    "# print(predictions)\n",
    "# print(\"*****\")"
   ]
  },
  {
   "cell_type": "code",
   "execution_count": 39,
   "metadata": {},
   "outputs": [
    {
     "name": "stdout",
     "output_type": "stream",
     "text": [
      "0.6928901962305704\n"
     ]
    }
   ],
   "source": [
    "from sklearn.metrics import roc_auc_score\n",
    "lr.fit(features,target)\n",
    "probabilities = lr.predict_proba(features)\n",
    "\n",
    "# Means we can just use roc_auc_curve() instead of metrics.roc_auc_curve()\n",
    "auc_score = roc_auc_score(target, probabilities[:,1])\n",
    "print(auc_score)"
   ]
  },
  {
   "cell_type": "code",
   "execution_count": 40,
   "metadata": {},
   "outputs": [
    {
     "name": "stdout",
     "output_type": "stream",
     "text": [
      "[1.         0.99950139 0.99910466 ... 0.1461508  0.1395978  0.12643783]\n"
     ]
    },
    {
     "data": {
      "image/png": "[encoded data removed]",
      "text/plain": [
       "<Figure size 432x288 with 1 Axes>"
      ]
     },
     "metadata": {},
     "output_type": "display_data"
    }
   ],
   "source": [
    "\n",
    "import matplotlib.pyplot as plt\n",
    "from sklearn import metrics\n",
    "\n",
    "probabilities = lr.predict_proba(features)\n",
    "fpr, tpr, thresholds = metrics.roc_curve(target, probabilities[:,1])\n",
    "print (thresholds)\n",
    "plt.plot(fpr, tpr)\n",
    "plt.title(\"ROC curve of %s (AUC = %.4f)\" % ('logistic' , auc_score))\n",
    "plt.ylabel(\"False Positive Rate\")\n",
    "plt.xlabel(\"True Positive Rate\")\n",
    "plt.show()"
   ]
  },
  {
   "cell_type": "code",
   "execution_count": null,
   "metadata": {},
   "outputs": [],
   "source": []
  },
  {
   "cell_type": "code",
   "execution_count": null,
   "metadata": {},
   "outputs": [],
   "source": []
  },
  {
   "cell_type": "code",
   "execution_count": null,
   "metadata": {},
   "outputs": [],
   "source": []
  }
 ],
 "metadata": {
  "kernelspec": {
   "display_name": "Python 3",
   "language": "python",
   "name": "python3"
  },
  "language_info": {
   "codemirror_mode": {
    "name": "ipython",
    "version": 3
   },
   "file_extension": ".py",
   "mimetype": "text/x-python",
   "name": "python",
   "nbconvert_exporter": "python",
   "pygments_lexer": "ipython3",
   "version": "3.6.5"
  },
  "toc": {
   "base_numbering": 1,
   "nav_menu": {
    "height": "194px",
    "width": "315px"
   },
   "number_sections": true,
   "sideBar": true,
   "skip_h1_title": false,
   "title_cell": "Table of Contents",
   "title_sidebar": "Contents",
   "toc_cell": true,
   "toc_position": {
    "height": "calc(100% - 180px)",
    "left": "10px",
    "top": "150px",
    "width": "267px"
   },
   "toc_section_display": true,
   "toc_window_display": false
  }
 },
 "nbformat": 4,
 "nbformat_minor": 2
}
